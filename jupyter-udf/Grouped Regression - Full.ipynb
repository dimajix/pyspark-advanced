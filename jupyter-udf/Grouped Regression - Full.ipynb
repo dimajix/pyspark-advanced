{
 "cells": [
  {
   "cell_type": "markdown",
   "metadata": {},
   "source": [
    "# Example of grouped regressions\n",
    "\n",
    "In this section, we want to demanstrate a slightly advanced example for using Pandas grouped transformation for performing many ordinary least square model fits in parallel. We reuse the weather data and try to predict the temperature of all stations with a very simple model per station."
   ]
  },
  {
   "cell_type": "code",
   "execution_count": 14,
   "metadata": {},
   "outputs": [
    {
     "data": {
      "text/html": [
       "\n",
       "            <div>\n",
       "                <p><b>SparkSession - in-memory</b></p>\n",
       "                \n",
       "        <div>\n",
       "            <p><b>SparkContext</b></p>\n",
       "\n",
       "            <p><a href=\"http://3b97b950691e:4041\">Spark UI</a></p>\n",
       "\n",
       "            <dl>\n",
       "              <dt>Version</dt>\n",
       "                <dd><code>v3.0.1</code></dd>\n",
       "              <dt>Master</dt>\n",
       "                <dd><code>local[*]</code></dd>\n",
       "              <dt>AppName</dt>\n",
       "                <dd><code>pyspark-shell</code></dd>\n",
       "            </dl>\n",
       "        </div>\n",
       "        \n",
       "            </div>\n",
       "        "
      ],
      "text/plain": [
       "<pyspark.sql.session.SparkSession at 0x7f23241c9f50>"
      ]
     },
     "execution_count": 14,
     "metadata": {},
     "output_type": "execute_result"
    }
   ],
   "source": [
    "import pandas as pd\n",
    "\n",
    "import pyspark.sql\n",
    "import pyspark.sql.functions as f\n",
    "\n",
    "from pyspark.sql.types import *\n",
    "from pyspark.sql import SparkSession\n",
    "\n",
    "if not 'spark' in locals():\n",
    "    spark = SparkSession.builder \\\n",
    "        .master(\"local[*]\") \\\n",
    "        .config(\"spark.driver.memory\",\"24G\") \\\n",
    "        .getOrCreate()\n",
    "\n",
    "spark"
   ]
  },
  {
   "cell_type": "code",
   "execution_count": 2,
   "metadata": {},
   "outputs": [],
   "source": [
    "spark.conf.set(\"spark.sql.adaptive.enabled\", False)\n",
    "spark.conf.set(\"spark.sql.autoBroadcastJoinThreshold\", -1)"
   ]
  },
  {
   "cell_type": "code",
   "execution_count": 3,
   "metadata": {},
   "outputs": [],
   "source": [
    "%matplotlib inline"
   ]
  },
  {
   "cell_type": "markdown",
   "metadata": {},
   "source": [
    "## 1 Load Data\n",
    "First we load data of a single year."
   ]
  },
  {
   "cell_type": "code",
   "execution_count": 4,
   "metadata": {},
   "outputs": [],
   "source": [
    "storageLocation = \"s3://dimajix-training/data/weather\""
   ]
  },
  {
   "cell_type": "code",
   "execution_count": 5,
   "metadata": {},
   "outputs": [],
   "source": [
    "from pyspark.sql.types import *\n",
    "from pyspark.sql.functions import *\n",
    "\n",
    "rawWeatherData = spark.read.text(storageLocation + \"/2003\")\n",
    "weather_all = rawWeatherData.select(\n",
    "    substring(col(\"value\"),5,6).alias(\"usaf\"),\n",
    "    substring(col(\"value\"),11,5).alias(\"wban\"),\n",
    "    to_timestamp(substring(col(\"value\"),16,12),\"yyyyMMddHHmm\").alias(\"timestamp\"),\n",
    "    to_timestamp(substring(col(\"value\"),16,12),\"yyyyMMddHHmm\").cast(\"long\").alias(\"ts\"),\n",
    "    substring(col(\"value\"),42,5).alias(\"report_type\"),\n",
    "    substring(col(\"value\"),61,3).alias(\"wind_direction\"),\n",
    "    substring(col(\"value\"),64,1).alias(\"wind_direction_qual\"),\n",
    "    substring(col(\"value\"),65,1).alias(\"wind_observation\"),\n",
    "    (substring(col(\"value\"),66,4).cast(\"float\") / lit(10.0)).alias(\"wind_speed\"),\n",
    "    substring(col(\"value\"),70,1).alias(\"wind_speed_qual\"),\n",
    "    (substring(col(\"value\"),88,5).cast(\"float\") / lit(10.0)).alias(\"air_temperature\"),\n",
    "    substring(col(\"value\"),93,1).alias(\"air_temperature_qual\")\n",
    ")"
   ]
  },
  {
   "cell_type": "markdown",
   "metadata": {},
   "source": [
    "# 2 Analysis of one station\n",
    "\n",
    "First we only analyse a single station, just to check our approach and the expressiveness of our model. It won't be a very good fit, but it will be good enough for our needs to demonstrate the concept.\n",
    "\n",
    "So first we pick a single station, and we also only keep those records with a valid temeprature measurement."
   ]
  },
  {
   "cell_type": "code",
   "execution_count": 6,
   "metadata": {},
   "outputs": [],
   "source": [
    "weather_single = weather_all.where(\"usaf='954920' and wban='99999'\").cache()"
   ]
  },
  {
   "cell_type": "code",
   "execution_count": 8,
   "metadata": {
    "collapsed": false,
    "jupyter": {
     "outputs_hidden": false
    }
   },
   "outputs": [
    {
     "data": {
      "text/html": [
       "<div>\n",
       "<style scoped>\n",
       "    .dataframe tbody tr th:only-of-type {\n",
       "        vertical-align: middle;\n",
       "    }\n",
       "\n",
       "    .dataframe tbody tr th {\n",
       "        vertical-align: top;\n",
       "    }\n",
       "\n",
       "    .dataframe thead th {\n",
       "        text-align: right;\n",
       "    }\n",
       "</style>\n",
       "<table border=\"1\" class=\"dataframe\">\n",
       "  <thead>\n",
       "    <tr style=\"text-align: right;\">\n",
       "      <th></th>\n",
       "      <th>usaf</th>\n",
       "      <th>wban</th>\n",
       "      <th>timestamp</th>\n",
       "      <th>ts</th>\n",
       "      <th>report_type</th>\n",
       "      <th>wind_direction</th>\n",
       "      <th>wind_direction_qual</th>\n",
       "      <th>wind_observation</th>\n",
       "      <th>wind_speed</th>\n",
       "      <th>wind_speed_qual</th>\n",
       "      <th>air_temperature</th>\n",
       "      <th>air_temperature_qual</th>\n",
       "    </tr>\n",
       "  </thead>\n",
       "  <tbody>\n",
       "    <tr>\n",
       "      <th>0</th>\n",
       "      <td>954920</td>\n",
       "      <td>99999</td>\n",
       "      <td>2003-01-01 00:00:00</td>\n",
       "      <td>1041379200</td>\n",
       "      <td>FM-12</td>\n",
       "      <td>200</td>\n",
       "      <td>1</td>\n",
       "      <td>N</td>\n",
       "      <td>4.6</td>\n",
       "      <td>1</td>\n",
       "      <td>25.6</td>\n",
       "      <td>1</td>\n",
       "    </tr>\n",
       "    <tr>\n",
       "      <th>1</th>\n",
       "      <td>954920</td>\n",
       "      <td>99999</td>\n",
       "      <td>2003-01-01 02:00:00</td>\n",
       "      <td>1041386400</td>\n",
       "      <td>FM-12</td>\n",
       "      <td>230</td>\n",
       "      <td>1</td>\n",
       "      <td>N</td>\n",
       "      <td>5.7</td>\n",
       "      <td>1</td>\n",
       "      <td>27.8</td>\n",
       "      <td>1</td>\n",
       "    </tr>\n",
       "    <tr>\n",
       "      <th>2</th>\n",
       "      <td>954920</td>\n",
       "      <td>99999</td>\n",
       "      <td>2003-01-01 03:00:00</td>\n",
       "      <td>1041390000</td>\n",
       "      <td>FM-12</td>\n",
       "      <td>220</td>\n",
       "      <td>1</td>\n",
       "      <td>N</td>\n",
       "      <td>7.7</td>\n",
       "      <td>1</td>\n",
       "      <td>29.6</td>\n",
       "      <td>1</td>\n",
       "    </tr>\n",
       "    <tr>\n",
       "      <th>3</th>\n",
       "      <td>954920</td>\n",
       "      <td>99999</td>\n",
       "      <td>2003-01-01 05:00:00</td>\n",
       "      <td>1041397200</td>\n",
       "      <td>FM-12</td>\n",
       "      <td>230</td>\n",
       "      <td>1</td>\n",
       "      <td>N</td>\n",
       "      <td>6.2</td>\n",
       "      <td>1</td>\n",
       "      <td>29.7</td>\n",
       "      <td>1</td>\n",
       "    </tr>\n",
       "    <tr>\n",
       "      <th>4</th>\n",
       "      <td>954920</td>\n",
       "      <td>99999</td>\n",
       "      <td>2003-01-01 06:00:00</td>\n",
       "      <td>1041400800</td>\n",
       "      <td>FM-12</td>\n",
       "      <td>240</td>\n",
       "      <td>1</td>\n",
       "      <td>N</td>\n",
       "      <td>6.7</td>\n",
       "      <td>1</td>\n",
       "      <td>30.2</td>\n",
       "      <td>1</td>\n",
       "    </tr>\n",
       "    <tr>\n",
       "      <th>5</th>\n",
       "      <td>954920</td>\n",
       "      <td>99999</td>\n",
       "      <td>2003-01-01 08:00:00</td>\n",
       "      <td>1041408000</td>\n",
       "      <td>FM-12</td>\n",
       "      <td>210</td>\n",
       "      <td>1</td>\n",
       "      <td>N</td>\n",
       "      <td>6.7</td>\n",
       "      <td>1</td>\n",
       "      <td>29.1</td>\n",
       "      <td>1</td>\n",
       "    </tr>\n",
       "    <tr>\n",
       "      <th>6</th>\n",
       "      <td>954920</td>\n",
       "      <td>99999</td>\n",
       "      <td>2003-01-01 09:00:00</td>\n",
       "      <td>1041411600</td>\n",
       "      <td>FM-12</td>\n",
       "      <td>220</td>\n",
       "      <td>1</td>\n",
       "      <td>N</td>\n",
       "      <td>5.7</td>\n",
       "      <td>1</td>\n",
       "      <td>28.0</td>\n",
       "      <td>1</td>\n",
       "    </tr>\n",
       "    <tr>\n",
       "      <th>7</th>\n",
       "      <td>954920</td>\n",
       "      <td>99999</td>\n",
       "      <td>2003-01-01 11:00:00</td>\n",
       "      <td>1041418800</td>\n",
       "      <td>FM-12</td>\n",
       "      <td>210</td>\n",
       "      <td>1</td>\n",
       "      <td>N</td>\n",
       "      <td>3.6</td>\n",
       "      <td>1</td>\n",
       "      <td>25.9</td>\n",
       "      <td>1</td>\n",
       "    </tr>\n",
       "    <tr>\n",
       "      <th>8</th>\n",
       "      <td>954920</td>\n",
       "      <td>99999</td>\n",
       "      <td>2003-01-01 12:00:00</td>\n",
       "      <td>1041422400</td>\n",
       "      <td>FM-12</td>\n",
       "      <td>200</td>\n",
       "      <td>1</td>\n",
       "      <td>N</td>\n",
       "      <td>4.1</td>\n",
       "      <td>1</td>\n",
       "      <td>25.0</td>\n",
       "      <td>1</td>\n",
       "    </tr>\n",
       "    <tr>\n",
       "      <th>9</th>\n",
       "      <td>954920</td>\n",
       "      <td>99999</td>\n",
       "      <td>2003-01-01 14:00:00</td>\n",
       "      <td>1041429600</td>\n",
       "      <td>FM-12</td>\n",
       "      <td>190</td>\n",
       "      <td>1</td>\n",
       "      <td>N</td>\n",
       "      <td>6.2</td>\n",
       "      <td>1</td>\n",
       "      <td>23.0</td>\n",
       "      <td>1</td>\n",
       "    </tr>\n",
       "  </tbody>\n",
       "</table>\n",
       "</div>"
      ],
      "text/plain": [
       "     usaf   wban           timestamp          ts report_type wind_direction  \\\n",
       "0  954920  99999 2003-01-01 00:00:00  1041379200       FM-12            200   \n",
       "1  954920  99999 2003-01-01 02:00:00  1041386400       FM-12            230   \n",
       "2  954920  99999 2003-01-01 03:00:00  1041390000       FM-12            220   \n",
       "3  954920  99999 2003-01-01 05:00:00  1041397200       FM-12            230   \n",
       "4  954920  99999 2003-01-01 06:00:00  1041400800       FM-12            240   \n",
       "5  954920  99999 2003-01-01 08:00:00  1041408000       FM-12            210   \n",
       "6  954920  99999 2003-01-01 09:00:00  1041411600       FM-12            220   \n",
       "7  954920  99999 2003-01-01 11:00:00  1041418800       FM-12            210   \n",
       "8  954920  99999 2003-01-01 12:00:00  1041422400       FM-12            200   \n",
       "9  954920  99999 2003-01-01 14:00:00  1041429600       FM-12            190   \n",
       "\n",
       "  wind_direction_qual wind_observation  wind_speed wind_speed_qual  \\\n",
       "0                   1                N         4.6               1   \n",
       "1                   1                N         5.7               1   \n",
       "2                   1                N         7.7               1   \n",
       "3                   1                N         6.2               1   \n",
       "4                   1                N         6.7               1   \n",
       "5                   1                N         6.7               1   \n",
       "6                   1                N         5.7               1   \n",
       "7                   1                N         3.6               1   \n",
       "8                   1                N         4.1               1   \n",
       "9                   1                N         6.2               1   \n",
       "\n",
       "   air_temperature air_temperature_qual  \n",
       "0             25.6                    1  \n",
       "1             27.8                    1  \n",
       "2             29.6                    1  \n",
       "3             29.7                    1  \n",
       "4             30.2                    1  \n",
       "5             29.1                    1  \n",
       "6             28.0                    1  \n",
       "7             25.9                    1  \n",
       "8             25.0                    1  \n",
       "9             23.0                    1  "
      ]
     },
     "execution_count": 8,
     "metadata": {},
     "output_type": "execute_result"
    }
   ],
   "source": [
    "pdf = weather_single.where(weather_single.air_temperature_qual == 1).toPandas()\n",
    "pdf[0:10]"
   ]
  },
  {
   "cell_type": "markdown",
   "metadata": {},
   "source": [
    "## 2.1 Create Feature Space\n",
    "\n",
    "Our model will simply predict the temperature depending on the time and day of year. We use sin and cos of with a day-wide period and a year-wide period as features for fitting the model."
   ]
  },
  {
   "cell_type": "code",
   "execution_count": 9,
   "metadata": {
    "collapsed": false,
    "jupyter": {
     "outputs_hidden": false
    }
   },
   "outputs": [
    {
     "data": {
      "text/plain": [
       "<AxesSubplot:xlabel='timestamp'>"
      ]
     },
     "execution_count": 9,
     "metadata": {},
     "output_type": "execute_result"
    },
    {
     "data": {
      "image/png": "[encoded data removed]",
      "text/plain": [
       "<Figure size 1152x432 with 1 Axes>"
      ]
     },
     "metadata": {
      "needs_background": "light"
     },
     "output_type": "display_data"
    }
   ],
   "source": [
    "import numpy as np\n",
    "import math\n",
    "\n",
    "seconds_per_day = 24*60*60\n",
    "seconds_per_year = 365*seconds_per_day\n",
    "\n",
    "# Add sin and cos as features for fitting\n",
    "pdf['daily_sin'] = np.sin(pdf['ts']/seconds_per_day*2.0*math.pi)\n",
    "pdf['daily_cos'] = np.cos(pdf['ts']/seconds_per_day*2.0*math.pi)\n",
    "pdf['yearly_sin'] = np.sin(pdf['ts']/seconds_per_year*2.0*math.pi)\n",
    "pdf['yearly_cos'] = np.cos(pdf['ts']/seconds_per_year*2.0*math.pi)\n",
    "\n",
    "# Make a plot, just to check how it looks like\n",
    "pdf[0:200].plot(x='timestamp', y=['daily_sin','daily_cos','air_temperature'], figsize=[16,6])"
   ]
  },
  {
   "cell_type": "markdown",
   "metadata": {},
   "source": [
    "## 2.2 Fit model\n",
    "\n",
    "Now that we have the temperature and some features, we fit a simple model."
   ]
  },
  {
   "cell_type": "code",
   "execution_count": 10,
   "metadata": {
    "collapsed": false,
    "jupyter": {
     "outputs_hidden": false
    }
   },
   "outputs": [
    {
     "data": {
      "text/plain": [
       "<AxesSubplot:xlabel='timestamp'>"
      ]
     },
     "execution_count": 10,
     "metadata": {},
     "output_type": "execute_result"
    },
    {
     "data": {
      "image/png": "[encoded data removed]",
      "text/plain": [
       "<Figure size 1152x432 with 1 Axes>"
      ]
     },
     "metadata": {
      "needs_background": "light"
     },
     "output_type": "display_data"
    }
   ],
   "source": [
    "import statsmodels.api as sm\n",
    "\n",
    "# define target variable y\n",
    "y = pdf['air_temperature']\n",
    "# define feature variables X\n",
    "X = pdf[['ts', 'daily_sin', 'daily_cos', 'yearly_sin', 'yearly_cos']]\n",
    "X = sm.add_constant(X)\n",
    "# fit model\n",
    "model = sm.OLS(y, X).fit()\n",
    "\n",
    "# perform prediction\n",
    "pdf['pred'] = model.predict(X)\n",
    "\n",
    "# Make a plot of real temperature vs predicted temperature\n",
    "pdf[0:200].plot(x='timestamp', y=['pred','air_temperature'], figsize=[16,6])"
   ]
  },
  {
   "cell_type": "markdown",
   "metadata": {},
   "source": [
    "## 2.3 Inspect Model\n",
    "\n",
    "Now let us inspect the model, in order to find a way to store it in a Pandas DataFrame"
   ]
  },
  {
   "cell_type": "code",
   "execution_count": 11,
   "metadata": {
    "collapsed": false,
    "jupyter": {
     "outputs_hidden": false
    }
   },
   "outputs": [
    {
     "data": {
      "text/plain": [
       "const         1.836431e+01\n",
       "ts            4.503481e-09\n",
       "daily_sin     5.313380e+00\n",
       "daily_cos     4.699659e-01\n",
       "yearly_sin    3.045510e+00\n",
       "yearly_cos    8.993267e+00\n",
       "dtype: float64"
      ]
     },
     "execution_count": 11,
     "metadata": {},
     "output_type": "execute_result"
    }
   ],
   "source": [
    "model.params"
   ]
  },
  {
   "cell_type": "code",
   "execution_count": 12,
   "metadata": {
    "collapsed": false,
    "jupyter": {
     "outputs_hidden": false
    }
   },
   "outputs": [
    {
     "data": {
      "text/plain": [
       "pandas.core.series.Series"
      ]
     },
     "execution_count": 12,
     "metadata": {},
     "output_type": "execute_result"
    }
   ],
   "source": [
    "type(model.params)"
   ]
  },
  {
   "cell_type": "markdown",
   "metadata": {},
   "source": [
    "Finally let us create a Pandas DataFrame from the model parameters. This code snippet will be needed later when we want to parallelize the fitting for different weather stations using Spark."
   ]
  },
  {
   "cell_type": "code",
   "execution_count": 15,
   "metadata": {
    "collapsed": false,
    "jupyter": {
     "outputs_hidden": false
    }
   },
   "outputs": [
    {
     "data": {
      "text/html": [
       "<div>\n",
       "<style scoped>\n",
       "    .dataframe tbody tr th:only-of-type {\n",
       "        vertical-align: middle;\n",
       "    }\n",
       "\n",
       "    .dataframe tbody tr th {\n",
       "        vertical-align: top;\n",
       "    }\n",
       "\n",
       "    .dataframe thead th {\n",
       "        text-align: right;\n",
       "    }\n",
       "</style>\n",
       "<table border=\"1\" class=\"dataframe\">\n",
       "  <thead>\n",
       "    <tr style=\"text-align: right;\">\n",
       "      <th></th>\n",
       "      <th>const</th>\n",
       "      <th>ts</th>\n",
       "      <th>daily_sin</th>\n",
       "      <th>daily_cos</th>\n",
       "      <th>yearly_sin</th>\n",
       "      <th>yearly_cos</th>\n",
       "    </tr>\n",
       "  </thead>\n",
       "  <tbody>\n",
       "    <tr>\n",
       "      <th>0</th>\n",
       "      <td>18.364309</td>\n",
       "      <td>4.503481e-09</td>\n",
       "      <td>5.31338</td>\n",
       "      <td>0.469966</td>\n",
       "      <td>3.04551</td>\n",
       "      <td>8.993267</td>\n",
       "    </tr>\n",
       "  </tbody>\n",
       "</table>\n",
       "</div>"
      ],
      "text/plain": [
       "       const            ts  daily_sin  daily_cos  yearly_sin  yearly_cos\n",
       "0  18.364309  4.503481e-09    5.31338   0.469966     3.04551    8.993267"
      ]
     },
     "execution_count": 15,
     "metadata": {},
     "output_type": "execute_result"
    }
   ],
   "source": [
    "x_columns = X.columns\n",
    "pd.DataFrame([[model.params[i] for i in  x_columns]], columns=x_columns)"
   ]
  },
  {
   "cell_type": "markdown",
   "metadata": {},
   "source": [
    "# 3 Perform OLS for all stations\n",
    "\n",
    "Now we want to create a model for all stations. First we filter the data again, such that we only have valid temperature measurements."
   ]
  },
  {
   "cell_type": "code",
   "execution_count": 16,
   "metadata": {},
   "outputs": [],
   "source": [
    "valid_weather = weather_all.filter(weather_all.air_temperature_qual == 1)"
   ]
  },
  {
   "cell_type": "markdown",
   "metadata": {},
   "source": [
    "## 3.1 Feature extraction\n",
    "\n",
    "Now we generate the same features, but this time we use Spark instead of Pandas operations. This simplifies later model fitting."
   ]
  },
  {
   "cell_type": "code",
   "execution_count": 17,
   "metadata": {
    "collapsed": false,
    "jupyter": {
     "outputs_hidden": false
    }
   },
   "outputs": [
    {
     "data": {
      "text/html": [
       "<div>\n",
       "<style scoped>\n",
       "    .dataframe tbody tr th:only-of-type {\n",
       "        vertical-align: middle;\n",
       "    }\n",
       "\n",
       "    .dataframe tbody tr th {\n",
       "        vertical-align: top;\n",
       "    }\n",
       "\n",
       "    .dataframe thead th {\n",
       "        text-align: right;\n",
       "    }\n",
       "</style>\n",
       "<table border=\"1\" class=\"dataframe\">\n",
       "  <thead>\n",
       "    <tr style=\"text-align: right;\">\n",
       "      <th></th>\n",
       "      <th>usaf</th>\n",
       "      <th>wban</th>\n",
       "      <th>air_temperature</th>\n",
       "      <th>ts</th>\n",
       "      <th>const</th>\n",
       "      <th>daily_sin</th>\n",
       "      <th>daily_cos</th>\n",
       "      <th>yearly_sin</th>\n",
       "      <th>yearly_cos</th>\n",
       "    </tr>\n",
       "  </thead>\n",
       "  <tbody>\n",
       "    <tr>\n",
       "      <th>0</th>\n",
       "      <td>703160</td>\n",
       "      <td>25624</td>\n",
       "      <td>-2.0</td>\n",
       "      <td>1041380220</td>\n",
       "      <td>1.0</td>\n",
       "      <td>0.074108</td>\n",
       "      <td>0.997250</td>\n",
       "      <td>0.137480</td>\n",
       "      <td>0.990505</td>\n",
       "    </tr>\n",
       "    <tr>\n",
       "      <th>1</th>\n",
       "      <td>703160</td>\n",
       "      <td>25624</td>\n",
       "      <td>2.0</td>\n",
       "      <td>1041400380</td>\n",
       "      <td>1.0</td>\n",
       "      <td>0.999534</td>\n",
       "      <td>0.030539</td>\n",
       "      <td>0.141457</td>\n",
       "      <td>0.989944</td>\n",
       "    </tr>\n",
       "    <tr>\n",
       "      <th>2</th>\n",
       "      <td>703160</td>\n",
       "      <td>25624</td>\n",
       "      <td>-3.0</td>\n",
       "      <td>1041421980</td>\n",
       "      <td>1.0</td>\n",
       "      <td>0.030539</td>\n",
       "      <td>-0.999534</td>\n",
       "      <td>0.145716</td>\n",
       "      <td>0.989326</td>\n",
       "    </tr>\n",
       "    <tr>\n",
       "      <th>3</th>\n",
       "      <td>703160</td>\n",
       "      <td>25624</td>\n",
       "      <td>-4.0</td>\n",
       "      <td>1041443580</td>\n",
       "      <td>1.0</td>\n",
       "      <td>-0.999534</td>\n",
       "      <td>-0.030539</td>\n",
       "      <td>0.149973</td>\n",
       "      <td>0.988690</td>\n",
       "    </tr>\n",
       "    <tr>\n",
       "      <th>4</th>\n",
       "      <td>703160</td>\n",
       "      <td>25624</td>\n",
       "      <td>-3.0</td>\n",
       "      <td>1041465180</td>\n",
       "      <td>1.0</td>\n",
       "      <td>-0.030539</td>\n",
       "      <td>0.999534</td>\n",
       "      <td>0.154226</td>\n",
       "      <td>0.988036</td>\n",
       "    </tr>\n",
       "    <tr>\n",
       "      <th>5</th>\n",
       "      <td>703160</td>\n",
       "      <td>25624</td>\n",
       "      <td>-2.0</td>\n",
       "      <td>1041486780</td>\n",
       "      <td>1.0</td>\n",
       "      <td>0.999534</td>\n",
       "      <td>0.030539</td>\n",
       "      <td>0.158477</td>\n",
       "      <td>0.987363</td>\n",
       "    </tr>\n",
       "    <tr>\n",
       "      <th>6</th>\n",
       "      <td>703160</td>\n",
       "      <td>25624</td>\n",
       "      <td>-2.0</td>\n",
       "      <td>1041489960</td>\n",
       "      <td>1.0</td>\n",
       "      <td>0.979925</td>\n",
       "      <td>-0.199368</td>\n",
       "      <td>0.159102</td>\n",
       "      <td>0.987262</td>\n",
       "    </tr>\n",
       "    <tr>\n",
       "      <th>7</th>\n",
       "      <td>703160</td>\n",
       "      <td>25624</td>\n",
       "      <td>-2.0</td>\n",
       "      <td>1041490920</td>\n",
       "      <td>1.0</td>\n",
       "      <td>0.963630</td>\n",
       "      <td>-0.267238</td>\n",
       "      <td>0.159291</td>\n",
       "      <td>0.987232</td>\n",
       "    </tr>\n",
       "    <tr>\n",
       "      <th>8</th>\n",
       "      <td>703160</td>\n",
       "      <td>25624</td>\n",
       "      <td>-2.0</td>\n",
       "      <td>1041499380</td>\n",
       "      <td>1.0</td>\n",
       "      <td>0.632705</td>\n",
       "      <td>-0.774393</td>\n",
       "      <td>0.160955</td>\n",
       "      <td>0.986962</td>\n",
       "    </tr>\n",
       "    <tr>\n",
       "      <th>9</th>\n",
       "      <td>703160</td>\n",
       "      <td>25624</td>\n",
       "      <td>-2.0</td>\n",
       "      <td>1041501960</td>\n",
       "      <td>1.0</td>\n",
       "      <td>0.477159</td>\n",
       "      <td>-0.878817</td>\n",
       "      <td>0.161462</td>\n",
       "      <td>0.986879</td>\n",
       "    </tr>\n",
       "  </tbody>\n",
       "</table>\n",
       "</div>"
      ],
      "text/plain": [
       "     usaf   wban  air_temperature          ts  const  daily_sin  daily_cos  \\\n",
       "0  703160  25624             -2.0  1041380220    1.0   0.074108   0.997250   \n",
       "1  703160  25624              2.0  1041400380    1.0   0.999534   0.030539   \n",
       "2  703160  25624             -3.0  1041421980    1.0   0.030539  -0.999534   \n",
       "3  703160  25624             -4.0  1041443580    1.0  -0.999534  -0.030539   \n",
       "4  703160  25624             -3.0  1041465180    1.0  -0.030539   0.999534   \n",
       "5  703160  25624             -2.0  1041486780    1.0   0.999534   0.030539   \n",
       "6  703160  25624             -2.0  1041489960    1.0   0.979925  -0.199368   \n",
       "7  703160  25624             -2.0  1041490920    1.0   0.963630  -0.267238   \n",
       "8  703160  25624             -2.0  1041499380    1.0   0.632705  -0.774393   \n",
       "9  703160  25624             -2.0  1041501960    1.0   0.477159  -0.878817   \n",
       "\n",
       "   yearly_sin  yearly_cos  \n",
       "0    0.137480    0.990505  \n",
       "1    0.141457    0.989944  \n",
       "2    0.145716    0.989326  \n",
       "3    0.149973    0.988690  \n",
       "4    0.154226    0.988036  \n",
       "5    0.158477    0.987363  \n",
       "6    0.159102    0.987262  \n",
       "7    0.159291    0.987232  \n",
       "8    0.160955    0.986962  \n",
       "9    0.161462    0.986879  "
      ]
     },
     "execution_count": 17,
     "metadata": {},
     "output_type": "execute_result"
    }
   ],
   "source": [
    "import math\n",
    "\n",
    "seconds_per_day = 24*60*60\n",
    "seconds_per_year = 365*seconds_per_day\n",
    "\n",
    "features = valid_weather.select(\n",
    "    valid_weather.usaf,\n",
    "    valid_weather.wban,\n",
    "    valid_weather.air_temperature,\n",
    "    valid_weather.ts,\n",
    "    lit(1.0).alias('const'),\n",
    "    sin(valid_weather.ts * 2.0 * math.pi / seconds_per_day).alias('daily_sin'),\n",
    "    cos(valid_weather.ts * 2.0 * math.pi / seconds_per_day).alias('daily_cos'),\n",
    "    sin(valid_weather.ts * 2.0 * math.pi / seconds_per_year).alias('yearly_sin'),\n",
    "    cos(valid_weather.ts * 2.0 * math.pi / seconds_per_year).alias('yearly_cos')\n",
    ")\n",
    "\n",
    "features.limit(10).toPandas()"
   ]
  },
  {
   "cell_type": "markdown",
   "metadata": {},
   "source": [
    "## 3.2 Fit Models\n",
    "\n",
    "Now we use a Spark Pandas grouped UDF in order to fit models for all weather stations in parallel. This is done by defining a Pandas Gruped Map UDF, which receives all values of a single weather station as its input and returns a Pandas data frame containing one row with all model parameters. This UDF is then used in a grouped map aggregation using `groupby(...).apply(...)`."
   ]
  },
  {
   "cell_type": "code",
   "execution_count": 20,
   "metadata": {},
   "outputs": [],
   "source": [
    "group_columns = ['usaf', 'wban']\n",
    "y_column = 'air_temperature'\n",
    "x_columns = ['ts', 'const', 'daily_sin', 'daily_cos', 'yearly_sin', 'yearly_cos']\n",
    "schema = features.select(*group_columns, *x_columns).schema\n",
    "\n",
    "def ols(pdf):\n",
    "    # Extract grouping information from appropriate columns\n",
    "    group = [pdf[g].iloc[0] for g in group_columns]\n",
    "    # Extract target variable\n",
    "    y = pdf[y_column]\n",
    "    # Extract predictor variables\n",
    "    X = pdf[x_columns]\n",
    "    # Create model using Python statsmodel package to fit y to input variables x\n",
    "    model = sm.OLS(y, X).fit()\n",
    "    # Create a Pandas data frame with one row containing the grouping columns and all model parameters\n",
    "    return pd.DataFrame([group + [model.params[i] for i in x_columns]], columns=group_columns + x_columns)\n",
    "\n",
    "# Now fit model for all weather stations in parallel using Spark\n",
    "models = features.groupby(weather_all.usaf, weather_all.wban).applyInPandas(ols, schema).cache()"
   ]
  },
  {
   "cell_type": "code",
   "execution_count": 21,
   "metadata": {
    "collapsed": false,
    "jupyter": {
     "outputs_hidden": false
    }
   },
   "outputs": [
    {
     "data": {
      "text/html": [
       "<div>\n",
       "<style scoped>\n",
       "    .dataframe tbody tr th:only-of-type {\n",
       "        vertical-align: middle;\n",
       "    }\n",
       "\n",
       "    .dataframe tbody tr th {\n",
       "        vertical-align: top;\n",
       "    }\n",
       "\n",
       "    .dataframe thead th {\n",
       "        text-align: right;\n",
       "    }\n",
       "</style>\n",
       "<table border=\"1\" class=\"dataframe\">\n",
       "  <thead>\n",
       "    <tr style=\"text-align: right;\">\n",
       "      <th></th>\n",
       "      <th>usaf</th>\n",
       "      <th>wban</th>\n",
       "      <th>ts</th>\n",
       "      <th>const</th>\n",
       "      <th>daily_sin</th>\n",
       "      <th>daily_cos</th>\n",
       "      <th>yearly_sin</th>\n",
       "      <th>yearly_cos</th>\n",
       "    </tr>\n",
       "  </thead>\n",
       "  <tbody>\n",
       "    <tr>\n",
       "      <th>0</th>\n",
       "      <td>954920</td>\n",
       "      <td>99999</td>\n",
       "      <td>0</td>\n",
       "      <td>18.364309</td>\n",
       "      <td>5.313380</td>\n",
       "      <td>0.469966</td>\n",
       "      <td>3.045510</td>\n",
       "      <td>8.993267</td>\n",
       "    </tr>\n",
       "    <tr>\n",
       "      <th>1</th>\n",
       "      <td>038940</td>\n",
       "      <td>99999</td>\n",
       "      <td>0</td>\n",
       "      <td>25.272246</td>\n",
       "      <td>-0.826144</td>\n",
       "      <td>-1.376067</td>\n",
       "      <td>-3.693573</td>\n",
       "      <td>-4.713150</td>\n",
       "    </tr>\n",
       "    <tr>\n",
       "      <th>2</th>\n",
       "      <td>999999</td>\n",
       "      <td>94074</td>\n",
       "      <td>0</td>\n",
       "      <td>-5.866619</td>\n",
       "      <td>-4.867254</td>\n",
       "      <td>4.548186</td>\n",
       "      <td>-2.788635</td>\n",
       "      <td>-13.403601</td>\n",
       "    </tr>\n",
       "    <tr>\n",
       "      <th>3</th>\n",
       "      <td>111200</td>\n",
       "      <td>99999</td>\n",
       "      <td>0</td>\n",
       "      <td>-73.725936</td>\n",
       "      <td>-2.577125</td>\n",
       "      <td>-3.810438</td>\n",
       "      <td>-3.091114</td>\n",
       "      <td>-11.116201</td>\n",
       "    </tr>\n",
       "    <tr>\n",
       "      <th>4</th>\n",
       "      <td>727923</td>\n",
       "      <td>94225</td>\n",
       "      <td>0</td>\n",
       "      <td>178.539020</td>\n",
       "      <td>-0.597472</td>\n",
       "      <td>1.318946</td>\n",
       "      <td>-5.304252</td>\n",
       "      <td>-2.788685</td>\n",
       "    </tr>\n",
       "    <tr>\n",
       "      <th>5</th>\n",
       "      <td>701330</td>\n",
       "      <td>26616</td>\n",
       "      <td>0</td>\n",
       "      <td>207.711918</td>\n",
       "      <td>0.154068</td>\n",
       "      <td>0.326450</td>\n",
       "      <td>-9.337710</td>\n",
       "      <td>-11.273081</td>\n",
       "    </tr>\n",
       "    <tr>\n",
       "      <th>6</th>\n",
       "      <td>724273</td>\n",
       "      <td>03804</td>\n",
       "      <td>0</td>\n",
       "      <td>-138.120951</td>\n",
       "      <td>-1.752578</td>\n",
       "      <td>1.236404</td>\n",
       "      <td>-4.714701</td>\n",
       "      <td>-10.270727</td>\n",
       "    </tr>\n",
       "    <tr>\n",
       "      <th>7</th>\n",
       "      <td>726410</td>\n",
       "      <td>14837</td>\n",
       "      <td>0</td>\n",
       "      <td>-88.717287</td>\n",
       "      <td>-1.930264</td>\n",
       "      <td>2.198496</td>\n",
       "      <td>-6.594899</td>\n",
       "      <td>-11.926900</td>\n",
       "    </tr>\n",
       "    <tr>\n",
       "      <th>8</th>\n",
       "      <td>725560</td>\n",
       "      <td>14941</td>\n",
       "      <td>0</td>\n",
       "      <td>21.283986</td>\n",
       "      <td>-2.378156</td>\n",
       "      <td>3.185683</td>\n",
       "      <td>-5.713081</td>\n",
       "      <td>-13.298528</td>\n",
       "    </tr>\n",
       "    <tr>\n",
       "      <th>9</th>\n",
       "      <td>028450</td>\n",
       "      <td>99999</td>\n",
       "      <td>0</td>\n",
       "      <td>-188.638633</td>\n",
       "      <td>-0.772881</td>\n",
       "      <td>-1.636365</td>\n",
       "      <td>-3.677941</td>\n",
       "      <td>-12.949335</td>\n",
       "    </tr>\n",
       "  </tbody>\n",
       "</table>\n",
       "</div>"
      ],
      "text/plain": [
       "     usaf   wban  ts       const  daily_sin  daily_cos  yearly_sin  yearly_cos\n",
       "0  954920  99999   0   18.364309   5.313380   0.469966    3.045510    8.993267\n",
       "1  038940  99999   0   25.272246  -0.826144  -1.376067   -3.693573   -4.713150\n",
       "2  999999  94074   0   -5.866619  -4.867254   4.548186   -2.788635  -13.403601\n",
       "3  111200  99999   0  -73.725936  -2.577125  -3.810438   -3.091114  -11.116201\n",
       "4  727923  94225   0  178.539020  -0.597472   1.318946   -5.304252   -2.788685\n",
       "5  701330  26616   0  207.711918   0.154068   0.326450   -9.337710  -11.273081\n",
       "6  724273  03804   0 -138.120951  -1.752578   1.236404   -4.714701  -10.270727\n",
       "7  726410  14837   0  -88.717287  -1.930264   2.198496   -6.594899  -11.926900\n",
       "8  725560  14941   0   21.283986  -2.378156   3.185683   -5.713081  -13.298528\n",
       "9  028450  99999   0 -188.638633  -0.772881  -1.636365   -3.677941  -12.949335"
      ]
     },
     "execution_count": 21,
     "metadata": {},
     "output_type": "execute_result"
    }
   ],
   "source": [
    "models.limit(10).toPandas()"
   ]
  },
  {
   "cell_type": "markdown",
   "metadata": {},
   "source": [
    "## 3.3 Inspect and compare results\n",
    "\n",
    "Now let's pick the same station again, and compare the model to the original model."
   ]
  },
  {
   "cell_type": "code",
   "execution_count": 22,
   "metadata": {
    "collapsed": false,
    "jupyter": {
     "outputs_hidden": false
    }
   },
   "outputs": [
    {
     "data": {
      "text/html": [
       "<div>\n",
       "<style scoped>\n",
       "    .dataframe tbody tr th:only-of-type {\n",
       "        vertical-align: middle;\n",
       "    }\n",
       "\n",
       "    .dataframe tbody tr th {\n",
       "        vertical-align: top;\n",
       "    }\n",
       "\n",
       "    .dataframe thead th {\n",
       "        text-align: right;\n",
       "    }\n",
       "</style>\n",
       "<table border=\"1\" class=\"dataframe\">\n",
       "  <thead>\n",
       "    <tr style=\"text-align: right;\">\n",
       "      <th></th>\n",
       "      <th>usaf</th>\n",
       "      <th>wban</th>\n",
       "      <th>ts</th>\n",
       "      <th>const</th>\n",
       "      <th>daily_sin</th>\n",
       "      <th>daily_cos</th>\n",
       "      <th>yearly_sin</th>\n",
       "      <th>yearly_cos</th>\n",
       "    </tr>\n",
       "  </thead>\n",
       "  <tbody>\n",
       "    <tr>\n",
       "      <th>0</th>\n",
       "      <td>954920</td>\n",
       "      <td>99999</td>\n",
       "      <td>0</td>\n",
       "      <td>18.364309</td>\n",
       "      <td>5.31338</td>\n",
       "      <td>0.469966</td>\n",
       "      <td>3.04551</td>\n",
       "      <td>8.993267</td>\n",
       "    </tr>\n",
       "  </tbody>\n",
       "</table>\n",
       "</div>"
      ],
      "text/plain": [
       "     usaf   wban  ts      const  daily_sin  daily_cos  yearly_sin  yearly_cos\n",
       "0  954920  99999   0  18.364309    5.31338   0.469966     3.04551    8.993267"
      ]
     },
     "execution_count": 22,
     "metadata": {},
     "output_type": "execute_result"
    }
   ],
   "source": [
    "models.where(\"usaf='954920' and wban='99999'\").toPandas()"
   ]
  },
  {
   "cell_type": "code",
   "execution_count": 23,
   "metadata": {
    "collapsed": false,
    "jupyter": {
     "outputs_hidden": false
    }
   },
   "outputs": [
    {
     "data": {
      "text/plain": [
       "const         1.836431e+01\n",
       "ts            4.503481e-09\n",
       "daily_sin     5.313380e+00\n",
       "daily_cos     4.699659e-01\n",
       "yearly_sin    3.045510e+00\n",
       "yearly_cos    8.993267e+00\n",
       "dtype: float64"
      ]
     },
     "execution_count": 23,
     "metadata": {},
     "output_type": "execute_result"
    }
   ],
   "source": [
    "model.params"
   ]
  },
  {
   "cell_type": "code",
   "execution_count": null,
   "metadata": {
    "collapsed": true,
    "jupyter": {
     "outputs_hidden": true
    }
   },
   "outputs": [],
   "source": []
  }
 ],
 "metadata": {
  "kernelspec": {
   "display_name": "Python 3 (ipykernel)",
   "language": "python",
   "name": "python3"
  },
  "language_info": {
   "codemirror_mode": {
    "name": "ipython",
    "version": 3
   },
   "file_extension": ".py",
   "mimetype": "text/x-python",
   "name": "python",
   "nbconvert_exporter": "python",
   "pygments_lexer": "ipython3",
   "version": "3.10.11"
  }
 },
 "nbformat": 4,
 "nbformat_minor": 4
}
