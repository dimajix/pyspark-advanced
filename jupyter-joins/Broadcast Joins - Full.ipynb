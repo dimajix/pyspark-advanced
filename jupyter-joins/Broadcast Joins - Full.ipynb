{
 "cells": [
  {
   "cell_type": "markdown",
   "metadata": {},
   "source": [
    "# Broadcast Joins\n",
    "\n",
    "Joining two (or more) data sources is an important and elementary operation in an relation algebra, like Spark. But actually the implementation is not trivial, especially for distributed systems like Spark. The main challenge is to physically bring together all records that need to be joined from both data sources onto a single machine, otherwise they cannot be merged. This means that data needs to be exchanged over the network, which is complex and slower than local access.\n",
    "\n",
    "Depending on the size of the DataFrames to be joined, different strategies can be used. Spark supports two different join implementations:\n",
    "* Shuffle join - will shuffle both DataFrames over the network to ensure that matching records end up on the same machine\n",
    "* Broadcast join - will provide a copy of one DataFrames to all machines of the network\n",
    "\n",
    "While shuffle joins can work with arbitrary large data sets, a broadcast join always requires that the broadcast DataFrame completely fits into memory on all machines. But it can be much faster when the DataFrame is small enoguh.\n",
    "\n",
    "### Weather Example\n",
    "\n",
    "Again we will investigate into the different join types with our weather example."
   ]
  },
  {
   "cell_type": "code",
   "execution_count": 1,
   "metadata": {},
   "outputs": [
    {
     "name": "stderr",
     "output_type": "stream",
     "text": [
      "/opt/anaconda3/lib/python3.10/site-packages/pyspark/bin/load-spark-env.sh: line 68: ps: command not found\n",
      "Setting default log level to \"WARN\".\n",
      "To adjust logging level use sc.setLogLevel(newLevel). For SparkR, use setLogLevel(newLevel).\n",
      "23/11/25 16:58:38 WARN NativeCodeLoader: Unable to load native-hadoop library for your platform... using builtin-java classes where applicable\n"
     ]
    },
    {
     "data": {
      "text/html": [
       "\n",
       "            <div>\n",
       "                <p><b>SparkSession - in-memory</b></p>\n",
       "                \n",
       "        <div>\n",
       "            <p><b>SparkContext</b></p>\n",
       "\n",
       "            <p><a href=\"http://fe49fe119e4f:4040\">Spark UI</a></p>\n",
       "\n",
       "            <dl>\n",
       "              <dt>Version</dt>\n",
       "                <dd><code>v3.4.0</code></dd>\n",
       "              <dt>Master</dt>\n",
       "                <dd><code>local[*]</code></dd>\n",
       "              <dt>AppName</dt>\n",
       "                <dd><code>pyspark-shell</code></dd>\n",
       "            </dl>\n",
       "        </div>\n",
       "        \n",
       "            </div>\n",
       "        "
      ],
      "text/plain": [
       "<pyspark.sql.session.SparkSession at 0x7fa2146c2fb0>"
      ]
     },
     "execution_count": 1,
     "metadata": {},
     "output_type": "execute_result"
    }
   ],
   "source": [
    "from pyspark.sql import SparkSession\n",
    "import pyspark.sql.functions as f\n",
    "\n",
    "if not 'spark' in locals():\n",
    "    spark = SparkSession.builder \\\n",
    "        .master(\"local[*]\") \\\n",
    "        .config(\"spark.driver.memory\",\"24G\") \\\n",
    "        .getOrCreate()\n",
    "\n",
    "spark"
   ]
  },
  {
   "cell_type": "markdown",
   "metadata": {},
   "source": [
    "# 1 Load Data\n",
    "\n",
    "First we load the weather data, which consists of the measurement data and some station metadata."
   ]
  },
  {
   "cell_type": "code",
   "execution_count": 2,
   "metadata": {},
   "outputs": [],
   "source": [
    "storageLocation = \"s3://dimajix-training/data/weather\"\n",
    "# storageLocation = \"/dimajix/data/weather-noaa-sample\""
   ]
  },
  {
   "cell_type": "markdown",
   "metadata": {},
   "source": [
    "## 1.1 Load Measurements\n",
    "\n",
    "Measurements are stored in multiple directories (one per year). But we will limit ourselves to a single year in the analysis to improve readability of execution plans."
   ]
  },
  {
   "cell_type": "code",
   "execution_count": 3,
   "metadata": {},
   "outputs": [],
   "source": [
    "from pyspark.sql.functions import *\n",
    "from functools import reduce\n",
    "\n",
    "# Read in all years, store them in an Python array\n",
    "raw_weather_per_year = [spark.read.text(storageLocation + \"/\" + str(i)).withColumn(\"year\", lit(i)) for i in range(2003,2015)]\n",
    "\n",
    "# Union all years together\n",
    "raw_weather = reduce(lambda l,r: l.union(r), raw_weather_per_year)                        "
   ]
  },
  {
   "cell_type": "markdown",
   "metadata": {},
   "source": [
    "Use a single year to keep execution plans small"
   ]
  },
  {
   "cell_type": "code",
   "execution_count": 4,
   "metadata": {},
   "outputs": [],
   "source": [
    "raw_weather = spark.read.text(storageLocation + \"/2003\").withColumn(\"year\", lit(2003))"
   ]
  },
  {
   "cell_type": "markdown",
   "metadata": {},
   "source": [
    "### Extract Measurements\n",
    "\n",
    "Measurements were stored in a proprietary text based format, with some values at fixed positions. We need to extract these values with a simple SELECT statement."
   ]
  },
  {
   "cell_type": "code",
   "execution_count": 5,
   "metadata": {},
   "outputs": [],
   "source": [
    "weather = raw_weather.select(\n",
    "    col(\"year\"),\n",
    "    substring(col(\"value\"),5,6).alias(\"usaf\"),\n",
    "    substring(col(\"value\"),11,5).alias(\"wban\"),\n",
    "    substring(col(\"value\"),16,8).alias(\"date\"),\n",
    "    substring(col(\"value\"),24,4).alias(\"time\"),\n",
    "    substring(col(\"value\"),42,5).alias(\"report_type\"),\n",
    "    substring(col(\"value\"),61,3).alias(\"wind_direction\"),\n",
    "    substring(col(\"value\"),64,1).alias(\"wind_direction_qual\"),\n",
    "    substring(col(\"value\"),65,1).alias(\"wind_observation\"),\n",
    "    (substring(col(\"value\"),66,4).cast(\"float\") / lit(10.0)).alias(\"wind_speed\"),\n",
    "    substring(col(\"value\"),70,1).alias(\"wind_speed_qual\"),\n",
    "    (substring(col(\"value\"),88,5).cast(\"float\") / lit(10.0)).alias(\"air_temperature\"),\n",
    "    substring(col(\"value\"),93,1).alias(\"air_temperature_qual\")\n",
    ")"
   ]
  },
  {
   "cell_type": "markdown",
   "metadata": {},
   "source": [
    "## 1.2 Load Station Metadata\n",
    "\n",
    "We also need to load the weather station meta data containing information about the geo location, country etc of individual weather stations."
   ]
  },
  {
   "cell_type": "code",
   "execution_count": 6,
   "metadata": {},
   "outputs": [],
   "source": [
    "stations = spark.read \\\n",
    "    .option(\"header\", True) \\\n",
    "    .csv(storageLocation + \"/isd-history\")"
   ]
  },
  {
   "cell_type": "markdown",
   "metadata": {},
   "source": [
    "# 2 Standard Joins\n",
    "\n",
    "Per defaulkt Spark will automatically decide which join implementation to use (broadcast or hash exchange). In order to see the differences, we disable this automatic optimization and later we will explicitly instruct Spark how to perform a join.\n",
    "\n",
    "With the automatic optimization disabled, all joins will be performed as hash exchange joins if not told otherwise."
   ]
  },
  {
   "cell_type": "code",
   "execution_count": 7,
   "metadata": {},
   "outputs": [],
   "source": [
    "spark.conf.set(\"spark.sql.adaptive.enabled\", False)\n",
    "spark.conf.set(\"spark.sql.autoBroadcastJoinThreshold\", -1)"
   ]
  },
  {
   "cell_type": "markdown",
   "metadata": {},
   "source": [
    "## 2.1 Original Execution Plan\n",
    "\n",
    "Let us have a look at the execution plan of the join."
   ]
  },
  {
   "cell_type": "code",
   "execution_count": 8,
   "metadata": {},
   "outputs": [
    {
     "name": "stdout",
     "output_type": "stream",
     "text": [
      "== Parsed Logical Plan ==\n",
      "Join Inner, ((usaf#100 = USAF#142) AND (wban#101 = WBAN#143))\n",
      ":- Project [year#96, substring(value#94, 5, 6) AS usaf#100, substring(value#94, 11, 5) AS wban#101, substring(value#94, 16, 8) AS date#102, substring(value#94, 24, 4) AS time#103, substring(value#94, 42, 5) AS report_type#104, substring(value#94, 61, 3) AS wind_direction#105, substring(value#94, 64, 1) AS wind_direction_qual#106, substring(value#94, 65, 1) AS wind_observation#107, (cast(cast(substring(value#94, 66, 4) as float) as double) / cast(10.0 as double)) AS wind_speed#108, substring(value#94, 70, 1) AS wind_speed_qual#109, (cast(cast(substring(value#94, 88, 5) as float) as double) / cast(10.0 as double)) AS air_temperature#110, substring(value#94, 93, 1) AS air_temperature_qual#111]\n",
      ":  +- Project [value#94, 2003 AS year#96]\n",
      ":     +- Relation [value#94] text\n",
      "+- Relation [USAF#142,WBAN#143,STATION NAME#144,CTRY#145,STATE#146,ICAO#147,LAT#148,LON#149,ELEV(M)#150,BEGIN#151,END#152] csv\n",
      "\n",
      "== Analyzed Logical Plan ==\n",
      "year: int, usaf: string, wban: string, date: string, time: string, report_type: string, wind_direction: string, wind_direction_qual: string, wind_observation: string, wind_speed: double, wind_speed_qual: string, air_temperature: double, air_temperature_qual: string, USAF: string, WBAN: string, STATION NAME: string, CTRY: string, STATE: string, ICAO: string, LAT: string, LON: string, ELEV(M): string, BEGIN: string, END: string\n",
      "Join Inner, ((usaf#100 = USAF#142) AND (wban#101 = WBAN#143))\n",
      ":- Project [year#96, substring(value#94, 5, 6) AS usaf#100, substring(value#94, 11, 5) AS wban#101, substring(value#94, 16, 8) AS date#102, substring(value#94, 24, 4) AS time#103, substring(value#94, 42, 5) AS report_type#104, substring(value#94, 61, 3) AS wind_direction#105, substring(value#94, 64, 1) AS wind_direction_qual#106, substring(value#94, 65, 1) AS wind_observation#107, (cast(cast(substring(value#94, 66, 4) as float) as double) / cast(10.0 as double)) AS wind_speed#108, substring(value#94, 70, 1) AS wind_speed_qual#109, (cast(cast(substring(value#94, 88, 5) as float) as double) / cast(10.0 as double)) AS air_temperature#110, substring(value#94, 93, 1) AS air_temperature_qual#111]\n",
      ":  +- Project [value#94, 2003 AS year#96]\n",
      ":     +- Relation [value#94] text\n",
      "+- Relation [USAF#142,WBAN#143,STATION NAME#144,CTRY#145,STATE#146,ICAO#147,LAT#148,LON#149,ELEV(M)#150,BEGIN#151,END#152] csv\n",
      "\n",
      "== Optimized Logical Plan ==\n",
      "Join Inner, ((usaf#100 = USAF#142) AND (wban#101 = WBAN#143))\n",
      ":- Project [2003 AS year#96, substring(value#94, 5, 6) AS usaf#100, substring(value#94, 11, 5) AS wban#101, substring(value#94, 16, 8) AS date#102, substring(value#94, 24, 4) AS time#103, substring(value#94, 42, 5) AS report_type#104, substring(value#94, 61, 3) AS wind_direction#105, substring(value#94, 64, 1) AS wind_direction_qual#106, substring(value#94, 65, 1) AS wind_observation#107, (cast(cast(substring(value#94, 66, 4) as float) as double) / 10.0) AS wind_speed#108, substring(value#94, 70, 1) AS wind_speed_qual#109, (cast(cast(substring(value#94, 88, 5) as float) as double) / 10.0) AS air_temperature#110, substring(value#94, 93, 1) AS air_temperature_qual#111]\n",
      ":  +- Filter (isnotnull(substring(value#94, 5, 6)) AND isnotnull(substring(value#94, 11, 5)))\n",
      ":     +- Relation [value#94] text\n",
      "+- Filter (isnotnull(USAF#142) AND isnotnull(WBAN#143))\n",
      "   +- Relation [USAF#142,WBAN#143,STATION NAME#144,CTRY#145,STATE#146,ICAO#147,LAT#148,LON#149,ELEV(M)#150,BEGIN#151,END#152] csv\n",
      "\n",
      "== Physical Plan ==\n",
      "*(5) SortMergeJoin [usaf#100, wban#101], [USAF#142, WBAN#143], Inner\n",
      ":- *(2) Sort [usaf#100 ASC NULLS FIRST, wban#101 ASC NULLS FIRST], false, 0\n",
      ":  +- Exchange hashpartitioning(usaf#100, wban#101, 200), ENSURE_REQUIREMENTS, [plan_id=49]\n",
      ":     +- *(1) Project [2003 AS year#96, substring(value#94, 5, 6) AS usaf#100, substring(value#94, 11, 5) AS wban#101, substring(value#94, 16, 8) AS date#102, substring(value#94, 24, 4) AS time#103, substring(value#94, 42, 5) AS report_type#104, substring(value#94, 61, 3) AS wind_direction#105, substring(value#94, 64, 1) AS wind_direction_qual#106, substring(value#94, 65, 1) AS wind_observation#107, (cast(cast(substring(value#94, 66, 4) as float) as double) / 10.0) AS wind_speed#108, substring(value#94, 70, 1) AS wind_speed_qual#109, (cast(cast(substring(value#94, 88, 5) as float) as double) / 10.0) AS air_temperature#110, substring(value#94, 93, 1) AS air_temperature_qual#111]\n",
      ":        +- *(1) Filter (isnotnull(substring(value#94, 5, 6)) AND isnotnull(substring(value#94, 11, 5)))\n",
      ":           +- FileScan text [value#94] Batched: false, DataFilters: [isnotnull(substring(value#94, 5, 6)), isnotnull(substring(value#94, 11, 5))], Format: Text, Location: InMemoryFileIndex(1 paths)[file:/dimajix/data/weather-noaa-sample/2003], PartitionFilters: [], PushedFilters: [], ReadSchema: struct<value:string>\n",
      "+- *(4) Sort [USAF#142 ASC NULLS FIRST, WBAN#143 ASC NULLS FIRST], false, 0\n",
      "   +- Exchange hashpartitioning(USAF#142, WBAN#143, 200), ENSURE_REQUIREMENTS, [plan_id=57]\n",
      "      +- *(3) Filter (isnotnull(USAF#142) AND isnotnull(WBAN#143))\n",
      "         +- FileScan csv [USAF#142,WBAN#143,STATION NAME#144,CTRY#145,STATE#146,ICAO#147,LAT#148,LON#149,ELEV(M)#150,BEGIN#151,END#152] Batched: false, DataFilters: [isnotnull(USAF#142), isnotnull(WBAN#143)], Format: CSV, Location: InMemoryFileIndex(1 paths)[file:/dimajix/data/weather-noaa-sample/isd-history], PartitionFilters: [], PushedFilters: [IsNotNull(USAF), IsNotNull(WBAN)], ReadSchema: struct<USAF:string,WBAN:string,STATION NAME:string,CTRY:string,STATE:string,ICAO:string,LAT:strin...\n",
      "\n"
     ]
    }
   ],
   "source": [
    "df = weather.join(stations, (weather.usaf == stations.USAF) & (weather.wban == stations.WBAN))\n",
    "df.explain(True)"
   ]
  },
  {
   "cell_type": "markdown",
   "metadata": {},
   "source": [
    "### Remarks\n",
    "\n",
    "As said before, the join is a `SortMergeJoin` requiring a hash exchange shuffle operation. The join has the following steps:\n",
    "1. Filter away `NULL` values (this is an inner join)\n",
    "2. Repartition both DataFrames according to the join columns (`Exchange hashpartitioning`) with the same number of partitions each\n",
    "3. Sort each partition of both DataFrames independently\n",
    "4. Perform SortMergeJoin of both DataFrames by merging two according partitions from both DataFrames\n",
    "\n",
    "This is a rather expensive operation, since it requires a repartitioning over network of both DataFrames."
   ]
  },
  {
   "cell_type": "markdown",
   "metadata": {},
   "source": [
    "## 2.2 Explicit Broadcast Joins\n",
    "\n",
    "Now let us perform the logically same join operation, but this time using a *broadcast join* (also called *mapside join*). We can instruct Spark to broadcast a DataFrame to all worker nodes by using the `broadcast` function. This actually serves as a hint and returns a new DataFrame which is marked to be broadcasted in `JOIN` operations."
   ]
  },
  {
   "cell_type": "code",
   "execution_count": 12,
   "metadata": {},
   "outputs": [
    {
     "name": "stdout",
     "output_type": "stream",
     "text": [
      "== Physical Plan ==\n",
      "*(2) Project [usaf#100, wban#101, 2003 AS year#96, date#102, time#103, report_type#104, wind_direction#105, wind_direction_qual#106, wind_observation#107, wind_speed#108, wind_speed_qual#109, air_temperature#110, air_temperature_qual#111, STATION NAME#144, CTRY#145, STATE#146, ICAO#147, LAT#148, LON#149, ELEV(M)#150, BEGIN#151, END#152]\n",
      "+- *(2) BroadcastHashJoin [usaf#100, wban#101], [USAF#142, WBAN#143], Inner, BuildRight, false\n",
      "   :- *(2) Project [substring(value#94, 5, 6) AS usaf#100, substring(value#94, 11, 5) AS wban#101, substring(value#94, 16, 8) AS date#102, substring(value#94, 24, 4) AS time#103, substring(value#94, 42, 5) AS report_type#104, substring(value#94, 61, 3) AS wind_direction#105, substring(value#94, 64, 1) AS wind_direction_qual#106, substring(value#94, 65, 1) AS wind_observation#107, (cast(cast(substring(value#94, 66, 4) as float) as double) / 10.0) AS wind_speed#108, substring(value#94, 70, 1) AS wind_speed_qual#109, (cast(cast(substring(value#94, 88, 5) as float) as double) / 10.0) AS air_temperature#110, substring(value#94, 93, 1) AS air_temperature_qual#111]\n",
      "   :  +- *(2) Filter (isnotnull(substring(value#94, 5, 6)) AND isnotnull(substring(value#94, 11, 5)))\n",
      "   :     +- FileScan text [value#94] Batched: false, DataFilters: [isnotnull(substring(value#94, 5, 6)), isnotnull(substring(value#94, 11, 5))], Format: Text, Location: InMemoryFileIndex(1 paths)[file:/dimajix/data/weather-noaa-sample/2003], PartitionFilters: [], PushedFilters: [], ReadSchema: struct<value:string>\n",
      "   +- BroadcastExchange HashedRelationBroadcastMode(List(input[0, string, false], input[1, string, false]),false), [plan_id=201]\n",
      "      +- *(1) Filter (isnotnull(USAF#142) AND isnotnull(WBAN#143))\n",
      "         +- FileScan csv [USAF#142,WBAN#143,STATION NAME#144,CTRY#145,STATE#146,ICAO#147,LAT#148,LON#149,ELEV(M)#150,BEGIN#151,END#152] Batched: false, DataFilters: [isnotnull(USAF#142), isnotnull(WBAN#143)], Format: CSV, Location: InMemoryFileIndex(1 paths)[file:/dimajix/data/weather-noaa-sample/isd-history], PartitionFilters: [], PushedFilters: [IsNotNull(USAF), IsNotNull(WBAN)], ReadSchema: struct<USAF:string,WBAN:string,STATION NAME:string,CTRY:string,STATE:string,ICAO:string,LAT:strin...\n",
      "\n",
      "\n"
     ]
    }
   ],
   "source": [
    "df = weather.join(broadcast(stations), [\"usaf\", \"wban\"])\n",
    "df.explain()"
   ]
  },
  {
   "cell_type": "markdown",
   "metadata": {},
   "source": [
    "### Remarks\n",
    "\n",
    "Now the execution plan looks significantly differnt. The stations metadata DataFrame is now broadcast to all worker nodes (still a network operation), but the measurement DataFrame does not require any repartitioning or shuffling any more. The broadcast join operation now is executed in three steps:\n",
    "* Filter `NULL` values again\n",
    "* Broadcast station metadata to all Spark executors\n",
    "* Perform `BroadcastHashJoin`\n",
    "\n",
    "A broadcast operation often makes sense in similar cases where you have large fact tables (measurements, purchase orders etc) and smaller lookup tables."
   ]
  },
  {
   "cell_type": "markdown",
   "metadata": {},
   "source": [
    "## 2.3 Full Outer Joins\n",
    "\n",
    "Not all join types support broadcast joins. For example, full outer joins or right joins will not work"
   ]
  },
  {
   "cell_type": "code",
   "execution_count": 11,
   "metadata": {},
   "outputs": [
    {
     "name": "stdout",
     "output_type": "stream",
     "text": [
      "== Physical Plan ==\n",
      "*(4) Project [coalesce(usaf#100, USAF#142) AS usaf#261, coalesce(wban#101, WBAN#143) AS wban#262, year#96, date#102, time#103, report_type#104, wind_direction#105, wind_direction_qual#106, wind_observation#107, wind_speed#108, wind_speed_qual#109, air_temperature#110, air_temperature_qual#111, STATION NAME#144, CTRY#145, STATE#146, ICAO#147, LAT#148, LON#149, ELEV(M)#150, BEGIN#151, END#152]\n",
      "+- *(4) SortMergeJoin [usaf#100, wban#101], [USAF#142, WBAN#143], FullOuter\n",
      "   :- *(2) Sort [usaf#100 ASC NULLS FIRST, wban#101 ASC NULLS FIRST], false, 0\n",
      "   :  +- Exchange hashpartitioning(usaf#100, wban#101, 200), ENSURE_REQUIREMENTS, [plan_id=145]\n",
      "   :     +- *(1) Project [2003 AS year#96, substring(value#94, 5, 6) AS usaf#100, substring(value#94, 11, 5) AS wban#101, substring(value#94, 16, 8) AS date#102, substring(value#94, 24, 4) AS time#103, substring(value#94, 42, 5) AS report_type#104, substring(value#94, 61, 3) AS wind_direction#105, substring(value#94, 64, 1) AS wind_direction_qual#106, substring(value#94, 65, 1) AS wind_observation#107, (cast(cast(substring(value#94, 66, 4) as float) as double) / 10.0) AS wind_speed#108, substring(value#94, 70, 1) AS wind_speed_qual#109, (cast(cast(substring(value#94, 88, 5) as float) as double) / 10.0) AS air_temperature#110, substring(value#94, 93, 1) AS air_temperature_qual#111]\n",
      "   :        +- FileScan text [value#94] Batched: false, DataFilters: [], Format: Text, Location: InMemoryFileIndex(1 paths)[file:/dimajix/data/weather-noaa-sample/2003], PartitionFilters: [], PushedFilters: [], ReadSchema: struct<value:string>\n",
      "   +- *(3) Sort [USAF#142 ASC NULLS FIRST, WBAN#143 ASC NULLS FIRST], false, 0\n",
      "      +- Exchange hashpartitioning(USAF#142, WBAN#143, 200), ENSURE_REQUIREMENTS, [plan_id=137]\n",
      "         +- FileScan csv [USAF#142,WBAN#143,STATION NAME#144,CTRY#145,STATE#146,ICAO#147,LAT#148,LON#149,ELEV(M)#150,BEGIN#151,END#152] Batched: false, DataFilters: [], Format: CSV, Location: InMemoryFileIndex(1 paths)[file:/dimajix/data/weather-noaa-sample/isd-history], PartitionFilters: [], PushedFilters: [], ReadSchema: struct<USAF:string,WBAN:string,STATION NAME:string,CTRY:string,STATE:string,ICAO:string,LAT:strin...\n",
      "\n",
      "\n"
     ]
    },
    {
     "name": "stderr",
     "output_type": "stream",
     "text": [
      "23/11/25 17:01:45 WARN HintErrorLogger: Hint (strategy=broadcast) is not supported in the query: build right for full outer join.\n"
     ]
    }
   ],
   "source": [
    "df = weather.join(broadcast(stations), [\"usaf\", \"wban\"], how=\"outer\")\n",
    "df.explain()"
   ]
  },
  {
   "cell_type": "markdown",
   "metadata": {},
   "source": [
    "## 2.4 Automatic Broadcast Joins\n",
    "\n",
    "Per default Spark automatically determines which join strategy to use depending on the size of the DataFrames. This mechanism works fine when reading data from disk, but will not work after non-trivial transformations like `JOIN`s or grouped aggregations. In these cases Spark has no idea how large the results will be, but the execution plan has to be fixed before the first transformation is executed. In these cases (if by domain knowledge) you know that certain DataFrames will be small, an explicit `broadcast()` will still help."
   ]
  },
  {
   "cell_type": "markdown",
   "metadata": {},
   "source": [
    "### Reenable automatic broadcast\n",
    "\n",
    "In order to re-enable Sparks default mechanism for selecting the `JOIN` strategy, we simply need to unset the configuration variable `spark.sql.autoBroadcastJoinThreshold`."
   ]
  },
  {
   "cell_type": "code",
   "execution_count": 10,
   "metadata": {},
   "outputs": [],
   "source": [
    "spark.conf.unset(\"spark.sql.autoBroadcastJoinThreshold\")"
   ]
  },
  {
   "cell_type": "markdown",
   "metadata": {},
   "source": [
    "### Inspect automatic execution plan"
   ]
  },
  {
   "cell_type": "code",
   "execution_count": 15,
   "metadata": {},
   "outputs": [
    {
     "name": "stdout",
     "output_type": "stream",
     "text": [
      "== Parsed Logical Plan ==\n",
      "Join Inner, ((usaf#87 = USAF#122) && (wban#88 = WBAN#123))\n",
      ":- Project [year#84, substring(value#82, 5, 6) AS usaf#87, substring(value#82, 11, 5) AS wban#88, substring(value#82, 16, 8) AS date#89, substring(value#82, 24, 4) AS time#90, substring(value#82, 42, 5) AS report_type#91, substring(value#82, 61, 3) AS wind_direction#92, substring(value#82, 64, 1) AS wind_direction_qual#93, substring(value#82, 65, 1) AS wind_observation#94, (cast(cast(substring(value#82, 66, 4) as float) as double) / cast(10.0 as double)) AS wind_speed#95, substring(value#82, 70, 1) AS wind_speed_qual#96, (cast(cast(substring(value#82, 88, 5) as float) as double) / cast(10.0 as double)) AS air_temperature#97, substring(value#82, 93, 1) AS air_temperature_qual#98]\n",
      ":  +- Project [value#82, 2003 AS year#84]\n",
      ":     +- Relation[value#82] text\n",
      "+- Relation[USAF#122,WBAN#123,STATION NAME#124,CTRY#125,STATE#126,ICAO#127,LAT#128,LON#129,ELEV(M)#130,BEGIN#131,END#132] csv\n",
      "\n",
      "== Analyzed Logical Plan ==\n",
      "year: int, usaf: string, wban: string, date: string, time: string, report_type: string, wind_direction: string, wind_direction_qual: string, wind_observation: string, wind_speed: double, wind_speed_qual: string, air_temperature: double, air_temperature_qual: string, USAF: string, WBAN: string, STATION NAME: string, CTRY: string, STATE: string, ICAO: string, LAT: string, LON: string, ELEV(M): string, BEGIN: string, END: string\n",
      "Join Inner, ((usaf#87 = USAF#122) && (wban#88 = WBAN#123))\n",
      ":- Project [year#84, substring(value#82, 5, 6) AS usaf#87, substring(value#82, 11, 5) AS wban#88, substring(value#82, 16, 8) AS date#89, substring(value#82, 24, 4) AS time#90, substring(value#82, 42, 5) AS report_type#91, substring(value#82, 61, 3) AS wind_direction#92, substring(value#82, 64, 1) AS wind_direction_qual#93, substring(value#82, 65, 1) AS wind_observation#94, (cast(cast(substring(value#82, 66, 4) as float) as double) / cast(10.0 as double)) AS wind_speed#95, substring(value#82, 70, 1) AS wind_speed_qual#96, (cast(cast(substring(value#82, 88, 5) as float) as double) / cast(10.0 as double)) AS air_temperature#97, substring(value#82, 93, 1) AS air_temperature_qual#98]\n",
      ":  +- Project [value#82, 2003 AS year#84]\n",
      ":     +- Relation[value#82] text\n",
      "+- Relation[USAF#122,WBAN#123,STATION NAME#124,CTRY#125,STATE#126,ICAO#127,LAT#128,LON#129,ELEV(M)#130,BEGIN#131,END#132] csv\n",
      "\n",
      "== Optimized Logical Plan ==\n",
      "Join Inner, ((usaf#87 = USAF#122) && (wban#88 = WBAN#123))\n",
      ":- Project [2003 AS year#84, substring(value#82, 5, 6) AS usaf#87, substring(value#82, 11, 5) AS wban#88, substring(value#82, 16, 8) AS date#89, substring(value#82, 24, 4) AS time#90, substring(value#82, 42, 5) AS report_type#91, substring(value#82, 61, 3) AS wind_direction#92, substring(value#82, 64, 1) AS wind_direction_qual#93, substring(value#82, 65, 1) AS wind_observation#94, (cast(cast(substring(value#82, 66, 4) as float) as double) / 10.0) AS wind_speed#95, substring(value#82, 70, 1) AS wind_speed_qual#96, (cast(cast(substring(value#82, 88, 5) as float) as double) / 10.0) AS air_temperature#97, substring(value#82, 93, 1) AS air_temperature_qual#98]\n",
      ":  +- Filter (isnotnull(substring(value#82, 5, 6)) && isnotnull(substring(value#82, 11, 5)))\n",
      ":     +- Relation[value#82] text\n",
      "+- Filter (isnotnull(WBAN#123) && isnotnull(USAF#122))\n",
      "   +- Relation[USAF#122,WBAN#123,STATION NAME#124,CTRY#125,STATE#126,ICAO#127,LAT#128,LON#129,ELEV(M)#130,BEGIN#131,END#132] csv\n",
      "\n",
      "== Physical Plan ==\n",
      "*(2) BroadcastHashJoin [usaf#87, wban#88], [USAF#122, WBAN#123], Inner, BuildRight\n",
      ":- *(2) Project [2003 AS year#84, substring(value#82, 5, 6) AS usaf#87, substring(value#82, 11, 5) AS wban#88, substring(value#82, 16, 8) AS date#89, substring(value#82, 24, 4) AS time#90, substring(value#82, 42, 5) AS report_type#91, substring(value#82, 61, 3) AS wind_direction#92, substring(value#82, 64, 1) AS wind_direction_qual#93, substring(value#82, 65, 1) AS wind_observation#94, (cast(cast(substring(value#82, 66, 4) as float) as double) / 10.0) AS wind_speed#95, substring(value#82, 70, 1) AS wind_speed_qual#96, (cast(cast(substring(value#82, 88, 5) as float) as double) / 10.0) AS air_temperature#97, substring(value#82, 93, 1) AS air_temperature_qual#98]\n",
      ":  +- *(2) Filter (isnotnull(substring(value#82, 5, 6)) && isnotnull(substring(value#82, 11, 5)))\n",
      ":     +- *(2) FileScan text [value#82] Batched: false, Format: Text, Location: InMemoryFileIndex[s3://dimajix-training/data/weather/2003], PartitionFilters: [], PushedFilters: [], ReadSchema: struct<value:string>\n",
      "+- BroadcastExchange HashedRelationBroadcastMode(List(input[0, string, true], input[1, string, true]))\n",
      "   +- *(1) Project [USAF#122, WBAN#123, STATION NAME#124, CTRY#125, STATE#126, ICAO#127, LAT#128, LON#129, ELEV(M)#130, BEGIN#131, END#132]\n",
      "      +- *(1) Filter (isnotnull(WBAN#123) && isnotnull(USAF#122))\n",
      "         +- *(1) FileScan csv [USAF#122,WBAN#123,STATION NAME#124,CTRY#125,STATE#126,ICAO#127,LAT#128,LON#129,ELEV(M)#130,BEGIN#131,END#132] Batched: false, Format: CSV, Location: InMemoryFileIndex[s3://dimajix-training/data/weather/isd-history], PartitionFilters: [], PushedFilters: [IsNotNull(WBAN), IsNotNull(USAF)], ReadSchema: struct<USAF:string,WBAN:string,STATION NAME:string,CTRY:string,STATE:string,ICAO:string,LAT:strin...\n"
     ]
    }
   ],
   "source": [
    "df = weather.join(stations, (weather.usaf == stations.USAF) & (weather.wban == stations.WBAN))\n",
    "df.explain(True)"
   ]
  },
  {
   "cell_type": "markdown",
   "metadata": {},
   "source": [
    "### Remarks\n",
    "\n",
    "Since the stations metadata table is relatively small, Spark automatically decides to use a broadcast join again."
   ]
  },
  {
   "cell_type": "code",
   "execution_count": null,
   "metadata": {},
   "outputs": [],
   "source": []
  }
 ],
 "metadata": {
  "kernelspec": {
   "display_name": "Python 3 (ipykernel)",
   "language": "python",
   "name": "python3"
  },
  "language_info": {
   "codemirror_mode": {
    "name": "ipython",
    "version": 3
   },
   "file_extension": ".py",
   "mimetype": "text/x-python",
   "name": "python",
   "nbconvert_exporter": "python",
   "pygments_lexer": "ipython3",
   "version": "3.10.11"
  }
 },
 "nbformat": 4,
 "nbformat_minor": 4
}
