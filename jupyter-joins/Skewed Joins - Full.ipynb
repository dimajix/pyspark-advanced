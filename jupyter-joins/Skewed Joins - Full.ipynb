{
 "cells": [
  {
   "cell_type": "markdown",
   "metadata": {},
   "source": [
    "# Adaptive Query Execution for Skewed Joins\n",
    "\n",
    "Skewed data sets are a big issue, especially for join operations. Before Spark 3, it was difficult to optimize such situations, which could easily end up either in very long running jobs where only a single task dominates the overall runtime or even in OOMs. In order to cope with such situations, people increased the number of Spark partitions via `spark.sql.shuffle.partitions` or salted the join keys (i.e. added random bits). While the first approach will affect all Spark operations, the second one is complex to implement.\n",
    "\n",
    "Luckily with Spark 3 the situation improved a lot, thanks to the new AQE (Adaptive Query Execution). This Spark internal framework allows Spark to dynamically change the execution plan of a query once some parts are executed and additional information is available to the query planner. And this framework provides support for skewed joins, in which case it will automatically split up huge partitions into smaller ones and still correctly execute the join operation.\n",
    "\n",
    "Let's have a look how this works. This notebook is heavily influenced by [a Medium article by Mario Cartia](https://medium.com/agile-lab-engineering/spark-3-0-first-hands-on-approach-with-adaptive-query-execution-part-3-ea6012a8f216)"
   ]
  },
  {
   "cell_type": "code",
   "execution_count": 2,
   "metadata": {},
   "outputs": [
    {
     "data": {
      "text/html": [
       "\n",
       "            <div>\n",
       "                <p><b>SparkSession - in-memory</b></p>\n",
       "                \n",
       "        <div>\n",
       "            <p><b>SparkContext</b></p>\n",
       "\n",
       "            <p><a href=\"http://3b97b950691e:4041\">Spark UI</a></p>\n",
       "\n",
       "            <dl>\n",
       "              <dt>Version</dt>\n",
       "                <dd><code>v3.0.1</code></dd>\n",
       "              <dt>Master</dt>\n",
       "                <dd><code>local[*]</code></dd>\n",
       "              <dt>AppName</dt>\n",
       "                <dd><code>pyspark-shell</code></dd>\n",
       "            </dl>\n",
       "        </div>\n",
       "        \n",
       "            </div>\n",
       "        "
      ],
      "text/plain": [
       "<pyspark.sql.session.SparkSession at 0x7fef344daa10>"
      ]
     },
     "execution_count": 2,
     "metadata": {},
     "output_type": "execute_result"
    }
   ],
   "source": [
    "from pyspark.sql import SparkSession\n",
    "import pyspark.sql.functions as f\n",
    "\n",
    "if not 'spark' in locals():\n",
    "    spark = SparkSession.builder \\\n",
    "        .master(\"local[*]\") \\\n",
    "        .config(\"spark.driver.memory\",\"24G\") \\\n",
    "        .getOrCreate()\n",
    "\n",
    "spark"
   ]
  },
  {
   "cell_type": "markdown",
   "metadata": {},
   "source": [
    "# 1 Create Skewed Test Data\n",
    "\n",
    "First we need to have a skewed data set. We create our own data set about cars. "
   ]
  },
  {
   "cell_type": "markdown",
   "metadata": {},
   "source": [
    "## 1.1 Create Car Models\n",
    "\n",
    "First we create a small data set with car models, which will serve as the join key of two additional tables, which will be created afterwards. We will also implement a small function `random_make_model` which returns a random entry of the table - but with a small twist. With a chance of over 50%, the returned car model will be a Ford Fiesta, which will later be responsible for the skewed partition."
   ]
  },
  {
   "cell_type": "code",
   "execution_count": 3,
   "metadata": {},
   "outputs": [
    {
     "data": {
      "text/plain": [
       "Row(make='FORD', model='FIESTA')"
      ]
     },
     "execution_count": 3,
     "metadata": {},
     "output_type": "execute_result"
    }
   ],
   "source": [
    "from pyspark.sql import Row\n",
    "import random\n",
    "\n",
    "MakeModel = Row(\"make\", \"model\")\n",
    "\n",
    "make_models = [\n",
    "    MakeModel(\"FORD\", \"FIESTA\"),\n",
    "    MakeModel(\"NISSAN\", \"QASHQAI\"),\n",
    "    MakeModel(\"HYUNDAI\", \"I20\"),\n",
    "    MakeModel(\"SUZUKI\", \"SWIFT\"),\n",
    "    MakeModel(\"MERCEDES-BENZ\", \"E CLASS\"),\n",
    "    MakeModel(\"FIAT\", \"500\"),\n",
    "    MakeModel(\"SKODA\", \"OCTAVIA\"),\n",
    "    MakeModel(\"KIA\", \"RIO\"),\n",
    "    MakeModel(\"VW\", \"TIGUAN\"),\n",
    "    MakeModel(\"PORSCHE\", \"911\"),\n",
    "]\n",
    "\n",
    "\n",
    "# Helper function to create random make & model\n",
    "def random_make_model():\n",
    "    is_ford = random.choice([True, False])\n",
    "    if is_ford:\n",
    "        return make_models[0]\n",
    "    else:\n",
    "        rnd = random.randint(0, len(make_models) - 1)\n",
    "        return make_models[rnd]\n",
    "    \n",
    "random_make_model()"
   ]
  },
  {
   "cell_type": "markdown",
   "metadata": {},
   "source": [
    "## 1.2 Create First Car Table\n",
    "\n",
    "The first table simply contains car registrations, which will randomly generate a registration and pick a random car model from above. Remember that Fird Fiestas will be over-represented by over 50%, so the data set is already skewed in regards to the car model."
   ]
  },
  {
   "cell_type": "code",
   "execution_count": 4,
   "metadata": {},
   "outputs": [
    {
     "data": {
      "text/plain": [
       "Row(registration='FAABIXHZ', make='PORSCHE', model='911', engine_size=1.1)"
      ]
     },
     "execution_count": 4,
     "metadata": {},
     "output_type": "execute_result"
    }
   ],
   "source": [
    "import string\n",
    "\n",
    "Table1 = Row(\"registration\", \"make\", \"model\", \"engine_size\")\n",
    "\n",
    "def random_t1():\n",
    "    def random_registration():\n",
    "        letters = string.ascii_uppercase\n",
    "        reg = \"\"\n",
    "        for number in range(8):\n",
    "              reg += random.choice(letters)\n",
    "\n",
    "        return reg\n",
    "\n",
    "    def random_engine_size():\n",
    "        return 1 + random.randint(0,9)/10.0\n",
    "    \n",
    "    make_model = random_make_model()\n",
    "    return Table1( random_registration(), make_model.make, make_model.model, random_engine_size())\n",
    "\n",
    "random_t1()"
   ]
  },
  {
   "cell_type": "markdown",
   "metadata": {},
   "source": [
    "### Create DataFrame\n",
    "\n",
    "With the definitions above, let's create a Spark DataFrame containing random car registrations."
   ]
  },
  {
   "cell_type": "code",
   "execution_count": 5,
   "metadata": {},
   "outputs": [],
   "source": [
    "t1 = spark.createDataFrame([random_t1() for i in range(20000)])"
   ]
  },
  {
   "cell_type": "markdown",
   "metadata": {},
   "source": [
    "### Inspect DataFrame\n",
    "\n",
    "Now let's count the occurances of each car model. We expect that the Ford Fiesta will make up over 50%."
   ]
  },
  {
   "cell_type": "code",
   "execution_count": 6,
   "metadata": {},
   "outputs": [
    {
     "name": "stdout",
     "output_type": "stream",
     "text": [
      "+-------------+-------+-----+\n",
      "|         make|  model|count|\n",
      "+-------------+-------+-----+\n",
      "|         FORD| FIESTA|11080|\n",
      "|       SUZUKI|  SWIFT| 1028|\n",
      "|      HYUNDAI|    I20| 1021|\n",
      "|      PORSCHE|    911| 1016|\n",
      "|       NISSAN|QASHQAI| 1006|\n",
      "|         FIAT|    500| 1003|\n",
      "|MERCEDES-BENZ|E CLASS| 1001|\n",
      "|           VW| TIGUAN|  961|\n",
      "|        SKODA|OCTAVIA|  961|\n",
      "|          KIA|    RIO|  923|\n",
      "+-------------+-------+-----+\n",
      "\n"
     ]
    }
   ],
   "source": [
    "t1.groupBy([\"make\", \"model\"]).count().orderBy(f.col(\"count\").desc()).show()"
   ]
  },
  {
   "cell_type": "markdown",
   "metadata": {},
   "source": [
    "## 1.3 Create Second Table\n",
    "\n",
    "Now we create an additional table containing car informations, again highly skewed."
   ]
  },
  {
   "cell_type": "code",
   "execution_count": 8,
   "metadata": {},
   "outputs": [
    {
     "data": {
      "text/plain": [
       "Row(make='FORD', model='FIESTA', engine_size=1.8, sales_price=22637)"
      ]
     },
     "execution_count": 8,
     "metadata": {},
     "output_type": "execute_result"
    }
   ],
   "source": [
    "Table2 = Row(\"make\", \"model\", \"engine_size\", \"sales_price\")\n",
    "\n",
    "def random_t2():\n",
    "    def random_engine_size():\n",
    "        return 1 + random.randint(0,9)/10.0\n",
    "\n",
    "    def random_sales_price():\n",
    "        return random.randint(10000, 40000)\n",
    "    \n",
    "    make_model = random_make_model()\n",
    "    return Table2(make_model.make, make_model.model, random_engine_size(), random_sales_price())\n",
    "\n",
    "random_t2()"
   ]
  },
  {
   "cell_type": "markdown",
   "metadata": {},
   "source": [
    "### Create DataFrame"
   ]
  },
  {
   "cell_type": "code",
   "execution_count": 9,
   "metadata": {},
   "outputs": [],
   "source": [
    "t2 = spark.createDataFrame([random_t2() for i in range(200000)])"
   ]
  },
  {
   "cell_type": "markdown",
   "metadata": {},
   "source": [
    "### Inspect DataFrame"
   ]
  },
  {
   "cell_type": "code",
   "execution_count": 10,
   "metadata": {},
   "outputs": [
    {
     "name": "stdout",
     "output_type": "stream",
     "text": [
      "+-------------+-------+------+\n",
      "|         make|  model| count|\n",
      "+-------------+-------+------+\n",
      "|         FORD| FIESTA|110152|\n",
      "|      HYUNDAI|    I20| 10077|\n",
      "|      PORSCHE|    911| 10049|\n",
      "|          KIA|    RIO| 10048|\n",
      "|       SUZUKI|  SWIFT| 10020|\n",
      "|           VW| TIGUAN|  9982|\n",
      "|         FIAT|    500|  9962|\n",
      "|       NISSAN|QASHQAI|  9954|\n",
      "|MERCEDES-BENZ|E CLASS|  9884|\n",
      "|        SKODA|OCTAVIA|  9872|\n",
      "+-------------+-------+------+\n",
      "\n"
     ]
    }
   ],
   "source": [
    "t2.groupBy([\"make\", \"model\"]).count().orderBy(f.col(\"count\").desc()).show()"
   ]
  },
  {
   "cell_type": "markdown",
   "metadata": {},
   "source": [
    "# 2 Peform JOIN\n",
    "\n",
    "Finally we will join the two tables on the join keys `make` and `model`. Note that the join keys are not unique in neither DataFrame and note that the join key is highly skewed in both DataFrames."
   ]
  },
  {
   "cell_type": "markdown",
   "metadata": {},
   "source": [
    "## 2.1 Unoptimized Skewed Join\n",
    "\n",
    "First we will use a non-adaptive join as the performance baseline."
   ]
  },
  {
   "cell_type": "code",
   "execution_count": 11,
   "metadata": {},
   "outputs": [],
   "source": [
    "# Disable automatic broadcast. Default: 10MB\n",
    "spark.conf.set(\"spark.sql.autoBroadcastJoinThreshold\", -1)\n",
    "\n",
    "# Enable AQE. Default: False\n",
    "spark.conf.set(\"spark.sql.adaptive.enabled\", False)"
   ]
  },
  {
   "cell_type": "code",
   "execution_count": 12,
   "metadata": {},
   "outputs": [
    {
     "name": "stdout",
     "output_type": "stream",
     "text": [
      "== Physical Plan ==\n",
      "*(6) HashAggregate(keys=[registration#0], functions=[avg(sales_price#35L)])\n",
      "+- Exchange hashpartitioning(registration#0, 200), true, [id=#109]\n",
      "   +- *(5) HashAggregate(keys=[registration#0], functions=[partial_avg(sales_price#35L)])\n",
      "      +- *(5) Project [registration#0, sales_price#35L]\n",
      "         +- *(5) SortMergeJoin [make#1, model#2], [make#32, model#33], Inner, (abs((engine_size#3 - engine_size#34)) < 0.1)\n",
      "            :- *(2) Sort [make#1 ASC NULLS FIRST, model#2 ASC NULLS FIRST], false, 0\n",
      "            :  +- Exchange hashpartitioning(make#1, model#2, 200), true, [id=#94]\n",
      "            :     +- *(1) Filter ((isnotnull(engine_size#3) AND isnotnull(make#1)) AND isnotnull(model#2))\n",
      "            :        +- *(1) Scan ExistingRDD[registration#0,make#1,model#2,engine_size#3]\n",
      "            +- *(4) Sort [make#32 ASC NULLS FIRST, model#33 ASC NULLS FIRST], false, 0\n",
      "               +- Exchange hashpartitioning(make#32, model#33, 200), true, [id=#100]\n",
      "                  +- *(3) Filter ((isnotnull(model#33) AND isnotnull(make#32)) AND isnotnull(engine_size#34))\n",
      "                     +- *(3) Scan ExistingRDD[make#32,model#33,engine_size#34,sales_price#35L]\n",
      "\n",
      "\n"
     ]
    }
   ],
   "source": [
    "joined = t1.join(t2, [\"make\", \"model\"]) \\\n",
    "    .filter(f.abs(t1[\"engine_size\"] - t2[\"engine_size\"]) < 0.1) \\\n",
    "    .groupBy(\"registration\") \\\n",
    "    .agg(f.avg(\"sales_price\").alias(\"avg_sales_price\"))\n",
    "\n",
    "joined.explain()"
   ]
  },
  {
   "cell_type": "code",
   "execution_count": 13,
   "metadata": {},
   "outputs": [
    {
     "name": "stdout",
     "output_type": "stream",
     "text": [
      "CPU times: user 46.2 ms, sys: 28.4 ms, total: 74.6 ms\n",
      "Wall time: 1min 15s\n"
     ]
    },
    {
     "data": {
      "text/plain": [
       "20000"
      ]
     },
     "execution_count": 13,
     "metadata": {},
     "output_type": "execute_result"
    }
   ],
   "source": [
    "%%time\n",
    "\n",
    "joined.count()"
   ]
  },
  {
   "cell_type": "markdown",
   "metadata": {},
   "source": [
    "## 2.2 Optimized Skewed Join (AQE)\n",
    "\n",
    "Now we will enable the Adaptive Query Execution in Spark and configure some thresholds such that it will work nicely with our rather small data sets."
   ]
  },
  {
   "cell_type": "code",
   "execution_count": 14,
   "metadata": {},
   "outputs": [],
   "source": [
    "# Enable AQE. Ddefault: False\n",
    "spark.conf.set(\"spark.sql.adaptive.enabled\", True)\n",
    "# Enable skewed join optimization. Default: True\n",
    "spark.conf.set(\"spark.sql.adaptive.skewJoin.enabled\", True)\n",
    "\n",
    "# The advisory size in bytes of the shuffle partition during adaptive optimization (when spark.sql.adaptive.enabled is true).\n",
    "spark.conf.set(\"spark.sql.adaptive.advisoryPartitionSizeInBytes\", \"8KB\")\n",
    "# A partition is considered as skewed if its size is larger than this factor multiplying the median partition size and also larger than 'spark.sql.adaptive.skewJoin.skewedPartitionThresholdInBytes'. Default: 5\n",
    "spark.conf.set(\"spark.sql.adaptive.skewJoin.skewedPartitionFactor\", 2)\n",
    "# A partition is considered as skewed if its size in bytes is larger than this threshold and also larger than 'spark.sql.adaptive.skewJoin.skewedPartitionFactor' multiplying the median partition size. Default: 256MB\n",
    "spark.conf.set(\"spark.sql.adaptive.skewJoin.skewedPartitionThresholdInBytes\", \"16KB\")"
   ]
  },
  {
   "cell_type": "code",
   "execution_count": 15,
   "metadata": {},
   "outputs": [
    {
     "name": "stdout",
     "output_type": "stream",
     "text": [
      "== Physical Plan ==\n",
      "AdaptiveSparkPlan isFinalPlan=false\n",
      "+- HashAggregate(keys=[registration#0], functions=[avg(sales_price#35L)])\n",
      "   +- Exchange hashpartitioning(registration#0, 200), true, [id=#234]\n",
      "      +- HashAggregate(keys=[registration#0], functions=[partial_avg(sales_price#35L)])\n",
      "         +- Project [registration#0, sales_price#35L]\n",
      "            +- SortMergeJoin [make#1, model#2], [make#32, model#33], Inner, (abs((engine_size#3 - engine_size#34)) < 0.1)\n",
      "               :- Sort [make#1 ASC NULLS FIRST, model#2 ASC NULLS FIRST], false, 0\n",
      "               :  +- Exchange hashpartitioning(make#1, model#2, 200), true, [id=#226]\n",
      "               :     +- Filter ((isnotnull(engine_size#3) AND isnotnull(make#1)) AND isnotnull(model#2))\n",
      "               :        +- Scan ExistingRDD[registration#0,make#1,model#2,engine_size#3]\n",
      "               +- Sort [make#32 ASC NULLS FIRST, model#33 ASC NULLS FIRST], false, 0\n",
      "                  +- Exchange hashpartitioning(make#32, model#33, 200), true, [id=#227]\n",
      "                     +- Filter ((isnotnull(model#33) AND isnotnull(make#32)) AND isnotnull(engine_size#34))\n",
      "                        +- Scan ExistingRDD[make#32,model#33,engine_size#34,sales_price#35L]\n",
      "\n",
      "\n"
     ]
    }
   ],
   "source": [
    "joined = t1.join(t2, [\"make\", \"model\"]) \\\n",
    "    .filter(f.abs(t1[\"engine_size\"] - t2[\"engine_size\"]) < 0.1) \\\n",
    "    .groupBy(\"registration\") \\\n",
    "    .agg(f.avg(\"sales_price\").alias(\"avg_sales_price\"))\n",
    "\n",
    "joined.explain()"
   ]
  },
  {
   "cell_type": "code",
   "execution_count": 16,
   "metadata": {},
   "outputs": [
    {
     "name": "stdout",
     "output_type": "stream",
     "text": [
      "CPU times: user 116 ms, sys: 79.8 ms, total: 196 ms\n",
      "Wall time: 14.8 s\n"
     ]
    },
    {
     "data": {
      "text/plain": [
       "20000"
      ]
     },
     "execution_count": 16,
     "metadata": {},
     "output_type": "execute_result"
    }
   ],
   "source": [
    "%%time\n",
    "\n",
    "joined.count()"
   ]
  },
  {
   "cell_type": "code",
   "execution_count": null,
   "metadata": {},
   "outputs": [],
   "source": []
  }
 ],
 "metadata": {
  "kernelspec": {
   "display_name": "Python 3 (ipykernel)",
   "language": "python",
   "name": "python3"
  },
  "language_info": {
   "codemirror_mode": {
    "name": "ipython",
    "version": 3
   },
   "file_extension": ".py",
   "mimetype": "text/x-python",
   "name": "python",
   "nbconvert_exporter": "python",
   "pygments_lexer": "ipython3",
   "version": "3.10.11"
  }
 },
 "nbformat": 4,
 "nbformat_minor": 4
}
