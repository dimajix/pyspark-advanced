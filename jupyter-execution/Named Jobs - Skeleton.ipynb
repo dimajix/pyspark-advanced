{
 "cells": [
  {
   "cell_type": "markdown",
   "id": "619985e1-b79c-4c2d-9002-eaefe555bc1e",
   "metadata": {},
   "source": [
    "# Naming Spark Jobs"
   ]
  },
  {
   "cell_type": "code",
   "execution_count": null,
   "id": "2285315f-f760-4005-b835-86fed33bf27b",
   "metadata": {},
   "outputs": [],
   "source": [
    "from pyspark.sql import SparkSession\n",
    "\n",
    "if not 'spark' in locals():\n",
    "    spark = SparkSession.builder \\\n",
    "        .master(\"local[*]\") \\\n",
    "        .config(\"spark.driver.memory\",\"24G\") \\\n",
    "        .getOrCreate()\n",
    "\n",
    "spark"
   ]
  },
  {
   "cell_type": "markdown",
   "id": "449b3d90-7318-40c0-9120-ba5cbc2f5ec7",
   "metadata": {},
   "source": [
    "# Providing a Name\n",
    "\n",
    "You can set a *job group* and a *job description* inside the Spark context. These values will be used in the Spark UI."
   ]
  },
  {
   "cell_type": "markdown",
   "id": "0fc46cab-804d-44a2-8e99-3b6978b26701",
   "metadata": {},
   "source": [
    "## Retrieve Spark Context\n",
    "\n",
    "If not already provided by the notebook, you need to extract the *Spark context* from the *Spark session*."
   ]
  },
  {
   "cell_type": "code",
   "execution_count": null,
   "id": "9ccfe620-1952-467a-bd12-d69441cbb6e2",
   "metadata": {},
   "outputs": [],
   "source": [
    "# YOUR CODE HERE"
   ]
  },
  {
   "cell_type": "markdown",
   "id": "e46abe23-e90c-4273-b814-aea293a3f268",
   "metadata": {},
   "source": [
    "## Set Job Group and Description\n",
    "\n",
    "Now you can use the method `setJobGroup` to set both the name of the job group and a description. Both will be shown in the Web UI."
   ]
  },
  {
   "cell_type": "code",
   "execution_count": null,
   "id": "ad0f4e7f-7854-4654-ab7c-40dd028c2fcc",
   "metadata": {},
   "outputs": [],
   "source": [
    "# YOUR CODE HERE"
   ]
  },
  {
   "cell_type": "markdown",
   "id": "53667eb4-7ea2-450a-bbd0-1edeb0c09c47",
   "metadata": {},
   "source": [
    "## Execute Query\n",
    "\n",
    "Now every query will be marked with the group name and description set above."
   ]
  },
  {
   "cell_type": "code",
   "execution_count": null,
   "id": "a601e506-bb05-4039-8d64-da8d79276fe7",
   "metadata": {},
   "outputs": [],
   "source": [
    "# YOUR CODE HERE"
   ]
  },
  {
   "cell_type": "markdown",
   "id": "943c503d-496d-4cf1-a9ae-73e5d417ff45",
   "metadata": {},
   "source": [
    "## Resetting Job Group and Description"
   ]
  },
  {
   "cell_type": "code",
   "execution_count": 1,
   "id": "a6dc058c-97a0-4ccd-a9d7-dda2d81c1656",
   "metadata": {},
   "outputs": [],
   "source": [
    "# YOUR CODE HERE"
   ]
  },
  {
   "cell_type": "code",
   "execution_count": null,
   "id": "b5923497-1186-441a-933d-8e1a837f54f0",
   "metadata": {},
   "outputs": [],
   "source": []
  }
 ],
 "metadata": {
  "kernelspec": {
   "display_name": "Python 3 (ipykernel)",
   "language": "python",
   "name": "python3"
  },
  "language_info": {
   "codemirror_mode": {
    "name": "ipython",
    "version": 3
   },
   "file_extension": ".py",
   "mimetype": "text/x-python",
   "name": "python",
   "nbconvert_exporter": "python",
   "pygments_lexer": "ipython3",
   "version": "3.10.11"
  }
 },
 "nbformat": 4,
 "nbformat_minor": 5
}
