{
 "cells": [
  {
   "cell_type": "markdown",
   "id": "619985e1-b79c-4c2d-9002-eaefe555bc1e",
   "metadata": {},
   "source": [
    "# Naming Spark Jobs"
   ]
  },
  {
   "cell_type": "code",
   "execution_count": 1,
   "id": "2285315f-f760-4005-b835-86fed33bf27b",
   "metadata": {},
   "outputs": [
    {
     "name": "stderr",
     "output_type": "stream",
     "text": [
      "/opt/anaconda3/lib/python3.10/site-packages/pyspark/bin/load-spark-env.sh: line 68: ps: command not found\n",
      "Setting default log level to \"WARN\".\n",
      "To adjust logging level use sc.setLogLevel(newLevel). For SparkR, use setLogLevel(newLevel).\n",
      "23/11/20 07:25:52 WARN NativeCodeLoader: Unable to load native-hadoop library for your platform... using builtin-java classes where applicable\n"
     ]
    },
    {
     "data": {
      "text/html": [
       "\n",
       "            <div>\n",
       "                <p><b>SparkSession - in-memory</b></p>\n",
       "                \n",
       "        <div>\n",
       "            <p><b>SparkContext</b></p>\n",
       "\n",
       "            <p><a href=\"http://fe49fe119e4f:4040\">Spark UI</a></p>\n",
       "\n",
       "            <dl>\n",
       "              <dt>Version</dt>\n",
       "                <dd><code>v3.4.0</code></dd>\n",
       "              <dt>Master</dt>\n",
       "                <dd><code>local[*]</code></dd>\n",
       "              <dt>AppName</dt>\n",
       "                <dd><code>pyspark-shell</code></dd>\n",
       "            </dl>\n",
       "        </div>\n",
       "        \n",
       "            </div>\n",
       "        "
      ],
      "text/plain": [
       "<pyspark.sql.session.SparkSession at 0x7fbf0c2aef50>"
      ]
     },
     "execution_count": 1,
     "metadata": {},
     "output_type": "execute_result"
    }
   ],
   "source": [
    "from pyspark.sql import SparkSession\n",
    "\n",
    "if not 'spark' in locals():\n",
    "    spark = SparkSession.builder \\\n",
    "        .master(\"local[*]\") \\\n",
    "        .config(\"spark.driver.memory\",\"24G\") \\\n",
    "        .getOrCreate()\n",
    "\n",
    "spark"
   ]
  },
  {
   "cell_type": "markdown",
   "id": "449b3d90-7318-40c0-9120-ba5cbc2f5ec7",
   "metadata": {},
   "source": [
    "# Providing a Name\n",
    "\n",
    "You can set a *job group* and a *job description* inside the Spark context. These values will be used in the Spark UI."
   ]
  },
  {
   "cell_type": "markdown",
   "id": "0fc46cab-804d-44a2-8e99-3b6978b26701",
   "metadata": {},
   "source": [
    "## Retrieve Spark Context\n",
    "\n",
    "If not already provided by the notebook, you need to extract the *Spark context* from the *Spark session*."
   ]
  },
  {
   "cell_type": "code",
   "execution_count": 2,
   "id": "9ccfe620-1952-467a-bd12-d69441cbb6e2",
   "metadata": {},
   "outputs": [],
   "source": [
    "sc = spark.sparkContext"
   ]
  },
  {
   "cell_type": "markdown",
   "id": "e46abe23-e90c-4273-b814-aea293a3f268",
   "metadata": {},
   "source": [
    "## Set Job Group and Description\n",
    "\n",
    "Now you can use the method `setJobGroup` to set both the name of the job group and a description. Both will be shown in the Web UI."
   ]
  },
  {
   "cell_type": "code",
   "execution_count": 3,
   "id": "ad0f4e7f-7854-4654-ab7c-40dd028c2fcc",
   "metadata": {},
   "outputs": [],
   "source": [
    "sc.setJobGroup(\"my-job\", \"My very complicated job\")"
   ]
  },
  {
   "cell_type": "markdown",
   "id": "53667eb4-7ea2-450a-bbd0-1edeb0c09c47",
   "metadata": {},
   "source": [
    "## Execute Query\n",
    "\n",
    "Now every query will be marked with the group name and description set above."
   ]
  },
  {
   "cell_type": "code",
   "execution_count": 4,
   "id": "a601e506-bb05-4039-8d64-da8d79276fe7",
   "metadata": {},
   "outputs": [
    {
     "name": "stderr",
     "output_type": "stream",
     "text": [
      "                                                                                \r"
     ]
    },
    {
     "data": {
      "text/plain": [
       "99"
      ]
     },
     "execution_count": 4,
     "metadata": {},
     "output_type": "execute_result"
    }
   ],
   "source": [
    "spark.range(1,100).count()"
   ]
  },
  {
   "cell_type": "code",
   "execution_count": null,
   "id": "04837947-9bc1-4c5f-b03b-9d30e7354834",
   "metadata": {},
   "outputs": [],
   "source": []
  }
 ],
 "metadata": {
  "kernelspec": {
   "display_name": "Python 3 (ipykernel)",
   "language": "python",
   "name": "python3"
  },
  "language_info": {
   "codemirror_mode": {
    "name": "ipython",
    "version": 3
   },
   "file_extension": ".py",
   "mimetype": "text/x-python",
   "name": "python",
   "nbconvert_exporter": "python",
   "pygments_lexer": "ipython3",
   "version": "3.10.11"
  }
 },
 "nbformat": 4,
 "nbformat_minor": 5
}
