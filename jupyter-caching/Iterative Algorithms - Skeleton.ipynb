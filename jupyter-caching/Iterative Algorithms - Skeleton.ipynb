{
 "cells": [
  {
   "cell_type": "code",
   "execution_count": null,
   "metadata": {},
   "outputs": [],
   "source": [
    "import pyspark.sql\n",
    "import pyspark.sql.functions as sf"
   ]
  },
  {
   "cell_type": "code",
   "execution_count": null,
   "metadata": {},
   "outputs": [],
   "source": [
    "from pyspark.sql import SparkSession\n",
    "\n",
    "if not 'spark' in locals():\n",
    "    spark = SparkSession.builder \\\n",
    "        .master(\"local[*]\") \\\n",
    "        .config(\"spark.driver.memory\",\"4G\") \\\n",
    "        .getOrCreate()\n",
    "\n",
    "spark.conf.set(\"spark.sql.adaptive.enabled\", False)\n",
    "spark.conf.set(\"spark.sql.autoBroadcastJoinThreshold\", -1)\n",
    "spark"
   ]
  },
  {
   "cell_type": "markdown",
   "metadata": {},
   "source": [
    "# 1 Fictional Sales Data\n",
    "\n",
    "In this example we use a fictional data set of company revenues. The special property of this data set is that a company can have a different company as its parent company. Eventually a business expert wants to see the whole revenue of a company including all child companies. This requires that we build up an additional table containing all children (direct and indirect) for every company, such that we can join the revenues against this table and then aggregate over all direct and indirect children for each parent."
   ]
  },
  {
   "cell_type": "markdown",
   "metadata": {},
   "source": [
    "Let's start by loading and inspecting the data."
   ]
  },
  {
   "cell_type": "code",
   "execution_count": null,
   "metadata": {},
   "outputs": [],
   "source": [
    "basedir = \"s3://dimajix-training/data\""
   ]
  },
  {
   "cell_type": "code",
   "execution_count": null,
   "metadata": {},
   "outputs": [],
   "source": [
    "data = spark.read \\\n",
    "    .option(\"header\", True) \\\n",
    "    .option(\"inferSchema\", True) \\\n",
    "    .csv(basedir + \"/global-sales.csv\")\n",
    "\n",
    "data.printSchema()"
   ]
  },
  {
   "cell_type": "code",
   "execution_count": null,
   "metadata": {},
   "outputs": [],
   "source": [
    "data.toPandas()"
   ]
  },
  {
   "cell_type": "markdown",
   "metadata": {},
   "source": [
    "# 2 Single Step of transitive parent-child relations\n",
    "\n",
    "In the next step we want to build the helper table containing all children for every company. We will calculate this table using an iterative algorithm which adds the next level of children in every iteration. We first implement a single iteration, which will add the next level of children to each parent company."
   ]
  },
  {
   "cell_type": "code",
   "execution_count": null,
   "metadata": {},
   "outputs": [],
   "source": [
    "# Remove all records without a parent company for the algorithm\n",
    "cleaned_df = data \\\n",
    "    .filter(data[\"parent_company\"].isNotNull()) \\\n",
    "    .select(data[\"company\"], data[\"parent_company\"])"
   ]
  },
  {
   "cell_type": "code",
   "execution_count": null,
   "metadata": {},
   "outputs": [],
   "source": [
    "def iterate_parent_child(df):\n",
    "    # Denote the incoming table \"parent\" and \"child\", since we will do a self-join and the join condition would be ambigious without aliases otherwise\n",
    "    parent_df = df.alias(\"parent\")\n",
    "    child_df = df.alias(\"child\")\n",
    "    \n",
    "    # Calculate next levels of indirect children by joining the table to itself and by retrieving the child of each child of each parent\n",
    "    next_level = # YOUR CODE HERE\n",
    "    \n",
    "    # Add current relations, otherwise they will be lost\n",
    "    cur_level = # YOUR CODE HERE\n",
    "    \n",
    "    # Return union of next indirection and current relations\n",
    "    return next_level.union(cur_level).distinct()"
   ]
  },
  {
   "cell_type": "markdown",
   "metadata": {},
   "source": [
    "### Perform one iteration\n",
    "\n",
    "Now let us perform a single iteration and inspect the result."
   ]
  },
  {
   "cell_type": "code",
   "execution_count": null,
   "metadata": {},
   "outputs": [],
   "source": [
    "next = # YOUR CODE HERE\n",
    "\n",
    "next.orderBy(\"parent_company\",\"company\").toPandas()"
   ]
  },
  {
   "cell_type": "markdown",
   "metadata": {},
   "source": [
    "# 3 Iterative Algorithm\n",
    "\n",
    "Now that we can add one level of indirection to our table of parent-child relations, we simply need to apply this algorithm as often as new records are created. We also add a reflective relation of each company to itself at the end, such that when using the table for aggregating all children, the revenue of each company itself  will also be added up in addition to its children."
   ]
  },
  {
   "cell_type": "code",
   "execution_count": null,
   "metadata": {},
   "outputs": [],
   "source": [
    "def calc_transitive_children(df):\n",
    "    # Remove records without a parent\n",
    "    cleaned_df = data \\\n",
    "        .filter(data[\"parent_company\"].isNotNull()) \\\n",
    "        .select(data[\"company\"], data[\"parent_company\"])\n",
    "    \n",
    "    # Iterate as long as new records are created\n",
    "    cur_df = cleaned_df\n",
    "    cur_count = cur_df.count()\n",
    "\n",
    "    while (True):\n",
    "        # Perform next iteration using iterate_parent_child\n",
    "        next_df = # YOUR CODE HERE\n",
    "        next_count = next_df.count()\n",
    "        \n",
    "        # If no new records are created, we are finished\n",
    "        # YOUR CODE HERE\n",
    "        \n",
    "        # This would be a good place to perform a checkpoint\n",
    "        cur_df = next_df        \n",
    "        cur_count = next_count\n",
    "        \n",
    "    # Create additional reflective relation of each company to irself\n",
    "    self_df = data.select(sf.col(\"company\").alias(\"parent_company\"), sf.col(\"company\"))\n",
    "    \n",
    "    return self_df.union(cur_df).distinct()"
   ]
  },
  {
   "cell_type": "markdown",
   "metadata": {},
   "source": [
    "### Run Algorithm\n",
    "\n",
    "Now let us run the whole algorithm on the original data set and inspect the result."
   ]
  },
  {
   "cell_type": "code",
   "execution_count": null,
   "metadata": {},
   "outputs": [],
   "source": [
    "relations = # YOUR CODE HERE\n",
    "\n",
    "relations.orderBy(\"parent_company\",\"company\").toPandas()"
   ]
  },
  {
   "cell_type": "markdown",
   "metadata": {},
   "source": [
    "### Inspect execution plan"
   ]
  },
  {
   "cell_type": "code",
   "execution_count": null,
   "metadata": {},
   "outputs": [],
   "source": [
    "# YOUR CODE HERE"
   ]
  },
  {
   "cell_type": "markdown",
   "metadata": {},
   "source": [
    "# 4 Perform Aggregation\n",
    "\n",
    "Now let us perform the final aggregation, such that we can calculate the revenue of each company including each direct and indirect child. This can be performed by joining the `relations` data frame to the original `data` data frame and then grouping on the `parent_company` column of the `relations` data frame and adding up the revenue."
   ]
  },
  {
   "cell_type": "code",
   "execution_count": null,
   "metadata": {},
   "outputs": [],
   "source": [
    "hierarchical_revenue = # YOUR CODE HERE"
   ]
  },
  {
   "cell_type": "code",
   "execution_count": null,
   "metadata": {},
   "outputs": [],
   "source": [
    "hierarchical_revenue.toPandas()"
   ]
  },
  {
   "cell_type": "markdown",
   "metadata": {},
   "source": [
    "### Check Totals\n",
    "\n",
    "Just to verify the result, let us compare the result of company 1 (\"Earth\") with a simple sum over all revenues."
   ]
  },
  {
   "cell_type": "code",
   "execution_count": null,
   "metadata": {},
   "outputs": [],
   "source": [
    "totals = data.select(sf.sum(data[\"revenue\"]))\n",
    "totals.toPandas()"
   ]
  },
  {
   "cell_type": "code",
   "execution_count": null,
   "metadata": {},
   "outputs": [],
   "source": []
  }
 ],
 "metadata": {
  "kernelspec": {
   "display_name": "Python 3 (ipykernel)",
   "language": "python",
   "name": "python3"
  },
  "language_info": {
   "codemirror_mode": {
    "name": "ipython",
    "version": 3
   },
   "file_extension": ".py",
   "mimetype": "text/x-python",
   "name": "python",
   "nbconvert_exporter": "python",
   "pygments_lexer": "ipython3",
   "version": "3.10.11"
  }
 },
 "nbformat": 4,
 "nbformat_minor": 4
}
